{
 "cells": [
  {
   "cell_type": "markdown",
   "id": "c364c45f-4176-44b3-9146-3257ab1b6e01",
   "metadata": {},
   "source": [
    "## Notebook for the statstable in Supp.7"
   ]
  },
  {
   "cell_type": "markdown",
   "id": "simplified-trace",
   "metadata": {},
   "source": [
    "## Imports and definitions"
   ]
  },
  {
   "cell_type": "code",
   "execution_count": 2,
   "id": "international-accuracy",
   "metadata": {},
   "outputs": [
    {
     "name": "stdout",
     "output_type": "stream",
     "text": [
      "env: DJ_SUPPORT_FILEPATH_MANAGEMENT=TRUE\n"
     ]
    }
   ],
   "source": [
    "%env DJ_SUPPORT_FILEPATH_MANAGEMENT TRUE\n",
    "%load_ext autoreload\n",
    "%autoreload 2\n",
    "%matplotlib inline\n",
    "import sys, os\n",
    "import numpy as np\n",
    "from rgc_natstim_model.analyses.context_change_detection import bootstrap_ci, cohens_d, perform_permutation_test\n",
    "from rgc_natstim_model.constants.plot_settings import cmap_colors as rgc_colors\n",
    "from rgc_natstim_model.utils.data_handling import unPickle,makePickle"
   ]
  },
  {
   "cell_type": "code",
   "execution_count": null,
   "id": "8717261f-322a-4d5c-b90c-90dd3eae8ba0",
   "metadata": {},
   "outputs": [],
   "source": [
    "base_folder = '/gpfs01/euler/data/SharedFiles/projects/Hoefling2024/'\n",
    "roc_path = base_folder+'data/simulation/roc/'\n",
    "respGen_path = base_folder+'data/simulation/response_generation/'\n",
    "stimGen_path = base_folder+'data/simulation/stimulus_generation/'"
   ]
  },
  {
   "cell_type": "markdown",
   "id": "b070afea-e3de-4750-9ae7-e3de430292c3",
   "metadata": {},
   "source": [
    "## Load auc_per_type value calculated in the ROC analysis"
   ]
  },
  {
   "cell_type": "markdown",
   "id": "342722a6-83b7-4e07-bd9c-06d3c42e6c1e",
   "metadata": {},
   "source": [
    "use speed = 4 to demonstrate 3 statistic tested used"
   ]
  },
  {
   "cell_type": "code",
   "execution_count": 47,
   "id": "d4a37dc6-4634-4583-820b-7bfd30bf469a",
   "metadata": {},
   "outputs": [],
   "source": [
    "speed = 4"
   ]
  },
  {
   "cell_type": "code",
   "execution_count": null,
   "id": "3dbca78d-515f-4b63-a90c-9465c2157e3f",
   "metadata": {},
   "outputs": [],
   "source": [
    "auc_by_type_values = unPickle(roc_path+'auc_per_type_s{}.pkl'.format(speed))"
   ]
  },
  {
   "cell_type": "code",
   "execution_count": 50,
   "id": "posted-convertible",
   "metadata": {},
   "outputs": [
    {
     "name": "stdout",
     "output_type": "stream",
     "text": [
      "[ 1  2  3  4  5  6  7  8  9 10 11 12 13 14 15 16 17 18 19 20 21 22 23 24\n",
      " 25 26 27 28 29 30 31 32]\n"
     ]
    }
   ],
   "source": [
    "types = np.arange(1, 33)\n",
    "print(types)"
   ]
  },
  {
   "cell_type": "markdown",
   "id": "8e8fdacb-8d83-49ec-bc43-a43777a37afd",
   "metadata": {},
   "source": [
    "inspect what the dictionary is like"
   ]
  },
  {
   "cell_type": "code",
   "execution_count": 49,
   "id": "9746fbf8-50a3-46fa-b1b6-7f35c53e1cba",
   "metadata": {},
   "outputs": [
    {
     "data": {
      "text/plain": [
       "array([0.61777217, 0.52824245, 0.5433285 , 0.47192383, 0.49260933,\n",
       "       0.60625622, 0.62769542, 0.5177227 , 0.55481974, 0.5538293 ,\n",
       "       0.48666616, 0.52800603])"
      ]
     },
     "execution_count": 49,
     "metadata": {},
     "output_type": "execute_result"
    }
   ],
   "source": [
    "auc_by_type_values[2] # per element represent one cell's AUC value for the selected speed"
   ]
  },
  {
   "cell_type": "markdown",
   "id": "bd3d3398-49ea-4013-931c-8817e5c0096e",
   "metadata": {},
   "source": [
    "### calculate the AUC_per_type across cell"
   ]
  },
  {
   "cell_type": "code",
   "execution_count": 51,
   "id": "classical-junior",
   "metadata": {
    "scrolled": true
   },
   "outputs": [
    {
     "name": "stdout",
     "output_type": "stream",
     "text": [
      "type 1: n_cells = 31, auc = 0.55\n",
      "type 2: n_cells = 12, auc = 0.54\n",
      "type 3: n_cells = 8, auc = 0.57\n",
      "type 4: n_cells = 51, auc = 0.52\n",
      "type 5: n_cells = 33, auc = 0.51\n",
      "type 6: n_cells = 11, auc = 0.52\n",
      "type 7: n_cells = 22, auc = 0.52\n",
      "type 8: n_cells = 15, auc = 0.54\n",
      "type 9: n_cells = 14, auc = 0.53\n",
      "type 10: n_cells = 26, auc = 0.58\n",
      "type 11: n_cells = 56, auc = 0.54\n",
      "type 12: n_cells = 86, auc = 0.56\n",
      "type 13: n_cells = 18, auc = 0.57\n",
      "type 14: n_cells = 15, auc = 0.55\n",
      "type 15: n_cells = 1, auc = 0.72\n",
      "type 16: n_cells = 9, auc = 0.62\n",
      "type 17: n_cells = 262, auc = 0.60\n",
      "type 18: n_cells = 108, auc = 0.55\n",
      "type 19: n_cells = 2, auc = 0.53\n",
      "type 20: n_cells = 45, auc = 0.54\n",
      "type 21: n_cells = 56, auc = 0.64\n",
      "type 22: n_cells = 160, auc = 0.68\n",
      "type 23: n_cells = 150, auc = 0.66\n",
      "type 24: n_cells = 29, auc = 0.65\n",
      "type 25: n_cells = 65, auc = 0.68\n",
      "type 26: n_cells = 26, auc = 0.58\n",
      "type 27: n_cells = 16, auc = 0.73\n",
      "type 28: n_cells = 69, auc = 0.77\n",
      "type 29: n_cells = 49, auc = 0.67\n",
      "type 30: n_cells = 4, auc = 0.74\n",
      "type 31: n_cells = 205, auc = 0.64\n",
      "type 32: n_cells = 293, auc = 0.54\n"
     ]
    }
   ],
   "source": [
    "auc_by_type = dict.fromkeys(types)\n",
    "for t in types:\n",
    "    auc_by_type[t] = auc_by_type_values[t].mean()\n",
    "    print(\"type {}: n_cells = {}, auc = {:.2f}\".format(t, len(auc_by_type_values[t]), auc_by_type[t]))"
   ]
  },
  {
   "cell_type": "markdown",
   "id": "e75b5df3-31cb-44bb-9a30-7e6bde858b8e",
   "metadata": {},
   "source": [
    "## Boostrapped 95% CI for difference between auc_per_type and auc_type28"
   ]
  },
  {
   "cell_type": "code",
   "execution_count": 53,
   "id": "incomplete-causing",
   "metadata": {
    "scrolled": true
   },
   "outputs": [
    {
     "name": "stdout",
     "output_type": "stream",
     "text": [
      "For type 1\n",
      "    delta auc 28 vs 1 = 0.22\n",
      "    95% CI = [-0.24, -0.19]\n",
      "For type 2\n",
      "    delta auc 28 vs 2 = 0.23\n",
      "    95% CI = [-0.25, -0.20]\n",
      "For type 3\n",
      "    delta auc 28 vs 3 = 0.20\n",
      "    95% CI = [-0.23, -0.17]\n",
      "For type 4\n",
      "    delta auc 28 vs 4 = 0.25\n",
      "    95% CI = [-0.26, -0.24]\n",
      "For type 5\n",
      "    delta auc 28 vs 5 = 0.26\n",
      "    95% CI = [-0.28, -0.25]\n",
      "For type 6\n",
      "    delta auc 28 vs 6 = 0.25\n",
      "    95% CI = [-0.28, -0.22]\n",
      "For type 7\n",
      "    delta auc 28 vs 7 = 0.25\n",
      "    95% CI = [-0.28, -0.22]\n",
      "For type 8\n",
      "    delta auc 28 vs 8 = 0.23\n",
      "    95% CI = [-0.26, -0.20]\n",
      "For type 9\n",
      "    delta auc 28 vs 9 = 0.24\n",
      "    95% CI = [-0.26, -0.22]\n",
      "For type 10\n",
      "    delta auc 28 vs 10 = 0.18\n",
      "    95% CI = [-0.21, -0.16]\n",
      "For type 11\n",
      "    delta auc 28 vs 11 = 0.23\n",
      "    95% CI = [-0.25, -0.20]\n",
      "For type 12\n",
      "    delta auc 28 vs 12 = 0.21\n",
      "    95% CI = [-0.23, -0.20]\n",
      "For type 13\n",
      "    delta auc 28 vs 13 = 0.20\n",
      "    95% CI = [-0.25, -0.16]\n",
      "For type 14\n",
      "    delta auc 28 vs 14 = 0.22\n",
      "    95% CI = [-0.24, -0.20]\n",
      "For type 15\n",
      "    delta auc 28 vs 15 = 0.05\n",
      "    95% CI = [-0.06, -0.04]\n",
      "For type 16\n",
      "    delta auc 28 vs 16 = 0.15\n",
      "    95% CI = [-0.20, -0.11]\n",
      "For type 17\n",
      "    delta auc 28 vs 17 = 0.17\n",
      "    95% CI = [-0.18, -0.16]\n",
      "For type 18\n",
      "    delta auc 28 vs 18 = 0.22\n",
      "    95% CI = [-0.23, -0.21]\n",
      "For type 19\n",
      "    delta auc 28 vs 19 = 0.24\n",
      "    95% CI = [-0.27, -0.21]\n",
      "For type 20\n",
      "    delta auc 28 vs 20 = 0.23\n",
      "    95% CI = [-0.24, -0.21]\n",
      "For type 21\n",
      "    delta auc 28 vs 21 = 0.13\n",
      "    95% CI = [-0.15, -0.12]\n",
      "For type 22\n",
      "    delta auc 28 vs 22 = 0.09\n",
      "    95% CI = [-0.10, -0.08]\n",
      "For type 23\n",
      "    delta auc 28 vs 23 = 0.11\n",
      "    95% CI = [-0.12, -0.10]\n",
      "For type 24\n",
      "    delta auc 28 vs 24 = 0.12\n",
      "    95% CI = [-0.14, -0.10]\n",
      "For type 25\n",
      "    delta auc 28 vs 25 = 0.09\n",
      "    95% CI = [-0.10, -0.08]\n",
      "For type 26\n",
      "    delta auc 28 vs 26 = 0.18\n",
      "    95% CI = [-0.22, -0.15]\n",
      "For type 27\n",
      "    delta auc 28 vs 27 = 0.04\n",
      "    95% CI = [-0.06, -0.01]\n",
      "For type 28\n",
      "    delta auc 28 vs 28 = 0.00\n",
      "    95% CI = [-0.01, 0.01]\n",
      "For type 29\n",
      "    delta auc 28 vs 29 = 0.10\n",
      "    95% CI = [-0.11, -0.08]\n",
      "For type 30\n",
      "    delta auc 28 vs 30 = 0.03\n",
      "    95% CI = [-0.05, 0.00]\n",
      "For type 31\n",
      "    delta auc 28 vs 31 = 0.13\n",
      "    95% CI = [-0.15, -0.12]\n",
      "For type 32\n",
      "    delta auc 28 vs 32 = 0.23\n",
      "    95% CI = [-0.25, -0.22]\n"
     ]
    }
   ],
   "source": [
    "for t in types:\n",
    "    print('For type {}'.format(t))\n",
    "    print(\"    delta auc 28 vs {} = {:.2f}\".format(t, auc_by_type[28] - auc_by_type[t]))\n",
    "    [lower_bound, upper_bound], _ = bootstrap_ci(auc_by_type_values[t], auc_by_type_values[28])\n",
    "    print(\"    95% CI = [{:.2f}, {:.2f}]\".format(lower_bound, upper_bound))"
   ]
  },
  {
   "cell_type": "markdown",
   "id": "40e14d6c-f97f-44a2-9522-5670d977f9d6",
   "metadata": {},
   "source": [
    "## Calculate the effect size (Cohen's d), each pair between one type and type28"
   ]
  },
  {
   "cell_type": "code",
   "execution_count": 55,
   "id": "antique-auckland",
   "metadata": {
    "scrolled": true
   },
   "outputs": [
    {
     "name": "stdout",
     "output_type": "stream",
     "text": [
      "For type 1\n",
      "    Cohen's d: 4.36\n",
      "For type 2\n",
      "    Cohen's d: 6.09\n",
      "For type 3\n",
      "    Cohen's d: 5.44\n",
      "For type 4\n",
      "    Cohen's d: 6.10\n",
      "For type 5\n",
      "    Cohen's d: 7.11\n",
      "For type 6\n",
      "    Cohen's d: 6.58\n",
      "For type 7\n",
      "    Cohen's d: 5.52\n",
      "For type 8\n",
      "    Cohen's d: 6.17\n",
      "For type 9\n",
      "    Cohen's d: 6.61\n",
      "For type 10\n",
      "    Cohen's d: 4.45\n",
      "For type 11\n",
      "    Cohen's d: 4.01\n",
      "For type 12\n",
      "    Cohen's d: 3.58\n",
      "For type 13\n",
      "    Cohen's d: 3.43\n",
      "For type 14\n",
      "    Cohen's d: 5.62\n",
      "For type 15\n",
      "    Cohen's d: 1.34\n",
      "For type 16\n",
      "    Cohen's d: 3.73\n",
      "For type 17\n",
      "    Cohen's d: 2.74\n",
      "For type 18\n",
      "    Cohen's d: 5.51\n",
      "For type 19\n",
      "    Cohen's d: 6.94\n",
      "For type 20\n",
      "    Cohen's d: 5.80\n",
      "For type 21\n",
      "    Cohen's d: 2.99\n",
      "For type 22\n",
      "    Cohen's d: 1.64\n",
      "For type 23\n",
      "    Cohen's d: 2.63\n",
      "For type 24\n",
      "    Cohen's d: 3.04\n",
      "For type 25\n",
      "    Cohen's d: 2.29\n",
      "For type 26\n",
      "    Cohen's d: 3.16\n",
      "For type 27\n",
      "    Cohen's d: 0.85\n",
      "For type 28\n",
      "    Cohen's d: 0.00\n",
      "For type 29\n",
      "    Cohen's d: 2.12\n",
      "For type 30\n",
      "    Cohen's d: 0.77\n",
      "For type 31\n",
      "    Cohen's d: 1.47\n",
      "For type 32\n",
      "    Cohen's d: 2.11\n"
     ]
    }
   ],
   "source": [
    "for t in types:\n",
    "    print('For type {}'.format(t))\n",
    "    d = cohens_d(auc_by_type_values[t], auc_by_type_values[28])\n",
    "    print(\"    Cohen's d: {:.2f}\".format( d))"
   ]
  },
  {
   "cell_type": "markdown",
   "id": "47706b06-2e9f-4ffe-82ea-9dc5721bddc7",
   "metadata": {},
   "source": [
    "## Compare distributions (one type and type28) by permutation test"
   ]
  },
  {
   "cell_type": "markdown",
   "id": "0ef54aa5-5802-4b59-be02-057ce857f190",
   "metadata": {},
   "source": [
    "null-hypothesis: the two distributions are the same"
   ]
  },
  {
   "cell_type": "code",
   "execution_count": 56,
   "id": "verified-venture",
   "metadata": {
    "scrolled": true
   },
   "outputs": [
    {
     "name": "stdout",
     "output_type": "stream",
     "text": [
      "For type 1\n",
      "    p value  0.00\n",
      "For type 2\n",
      "    p value  0.00\n",
      "For type 3\n",
      "    p value  0.00\n",
      "For type 4\n",
      "    p value  0.00\n",
      "For type 5\n",
      "    p value  0.00\n",
      "For type 6\n",
      "    p value  0.00\n",
      "For type 7\n",
      "    p value  0.00\n",
      "For type 8\n",
      "    p value  0.00\n",
      "For type 9\n",
      "    p value  0.00\n",
      "For type 10\n",
      "    p value  0.00\n",
      "For type 11\n",
      "    p value  0.00\n",
      "For type 12\n",
      "    p value  0.00\n",
      "For type 13\n",
      "    p value  0.00\n",
      "For type 14\n",
      "    p value  0.00\n",
      "For type 15\n",
      "    p value  0.17\n",
      "For type 16\n",
      "    p value  0.00\n",
      "For type 17\n",
      "    p value  0.00\n",
      "For type 18\n",
      "    p value  0.00\n",
      "For type 19\n",
      "    p value  0.00\n",
      "For type 20\n",
      "    p value  0.00\n",
      "For type 21\n",
      "    p value  0.00\n",
      "For type 22\n",
      "    p value  0.00\n",
      "For type 23\n",
      "    p value  0.00\n",
      "For type 24\n",
      "    p value  0.00\n",
      "For type 25\n",
      "    p value  0.00\n",
      "For type 26\n",
      "    p value  0.00\n",
      "For type 27\n",
      "    p value  0.00\n",
      "For type 28\n",
      "    p value  1.00\n",
      "For type 29\n",
      "    p value  0.00\n",
      "For type 30\n",
      "    p value  0.13\n",
      "For type 31\n",
      "    p value  0.00\n",
      "For type 32\n",
      "    p value  0.00\n"
     ]
    }
   ],
   "source": [
    "n_rep = 100000\n",
    "for t in types:\n",
    "    print('For type {}'.format(t))\n",
    "    permuted_delta, orig_delta, p  = perform_permutation_test(auc_by_type_values[t], \n",
    "                                                          auc_by_type_values[28],\n",
    "                                                         n_rep=n_rep)\n",
    "    print(\"    p value  {:.2f}\".format(p))"
   ]
  },
  {
   "cell_type": "markdown",
   "id": "3c3b5388-9fd9-4382-b5d0-ff5a7a1fb2ab",
   "metadata": {},
   "source": [
    "## Find next-best type for type28 per speed\n",
    "\n",
    "then repeat the three statistic tests above for the pair (next-best,type28)"
   ]
  },
  {
   "cell_type": "code",
   "execution_count": 114,
   "id": "a14ac17b-9c3a-48d3-a747-064f927fa830",
   "metadata": {},
   "outputs": [],
   "source": [
    "sorted_auc_by_type = dict(sorted(auc_by_type.items(), key=lambda item: item[1]))"
   ]
  },
  {
   "cell_type": "code",
   "execution_count": 116,
   "id": "2c36069f-5f31-46fa-aba6-222d64ca9e29",
   "metadata": {},
   "outputs": [
    {
     "name": "stdout",
     "output_type": "stream",
     "text": [
      "[5, 6, 4, 7, 19, 9, 32, 8, 20, 11, 2, 14, 18, 1, 12, 13, 3, 26, 10, 17, 16, 21, 31, 24, 23, 29, 25, 22, 15, 27, 30, 28]\n"
     ]
    }
   ],
   "source": [
    "sorted_types = list(sorted_auc_by_type.keys())\n",
    "print(sorted_types)"
   ]
  },
  {
   "cell_type": "code",
   "execution_count": 117,
   "id": "4acb8e32-8152-4c2a-ad86-daecf1de4ec5",
   "metadata": {},
   "outputs": [],
   "source": [
    "top_4s = sorted_types[-4:]"
   ]
  },
  {
   "cell_type": "code",
   "execution_count": 118,
   "id": "fee315bd-acc4-4b55-b228-e4f955bf37d1",
   "metadata": {},
   "outputs": [
    {
     "data": {
      "text/plain": [
       "[15, 27, 30, 28]"
      ]
     },
     "execution_count": 118,
     "metadata": {},
     "output_type": "execute_result"
    }
   ],
   "source": [
    "top_4s"
   ]
  },
  {
   "cell_type": "code",
   "execution_count": null,
   "id": "8d4c6d93-7fed-4522-adf6-99d3047e937e",
   "metadata": {},
   "outputs": [],
   "source": [
    "for speed in [4,12,20,28]:\n",
    "    mean_per_types =[]\n",
    "    print('Top 4 groups for SPEED',s)\n",
    "    auc_by_type_file = auc_path + 'auc_per_type_s{}.pkl'.format(speed)\n",
    "    \n",
    "    # print('Open: ',auc_by_type_file)\n",
    "    auc_by_type_values = unPickle(auc_by_type_file)\n",
    "    \n",
    "    for t in types:\n",
    "        mean_per_types.append(np.mean(auc_by_type_values[t]))\n",
    "    tmp = list(np.copy(mean_per_types))\n",
    "    find_top4(tmp,mean_per_types)"
   ]
  },
  {
   "cell_type": "markdown",
   "id": "18b388a1-ffa7-4699-8168-cb1030875ceb",
   "metadata": {},
   "source": [
    "### first, find the top 4 groups\n",
    "#### then pick the group that is worse than G28"
   ]
  },
  {
   "cell_type": "code",
   "execution_count": 124,
   "id": "differential-spare",
   "metadata": {},
   "outputs": [
    {
     "name": "stdout",
     "output_type": "stream",
     "text": [
      "Top 4 groups for SPEED 4\n",
      "  No.1 28, No.2 30, No.3 27, No.4 15\n",
      "Top 4 groups for SPEED 12\n",
      "  No.1 30, No.2 15, No.3 28, No.4 27\n",
      "Top 4 groups for SPEED 20\n",
      "  No.1 15, No.2 28, No.3 25, No.4 27\n",
      "Top 4 groups for SPEED 28\n",
      "  No.1 15, No.2 28, No.3 27, No.4 25\n"
     ]
    }
   ],
   "source": [
    "types = np.arange(1, 33)\n",
    "\n",
    "for s in [4,12,20,28]:\n",
    "    mean_per_types =[]\n",
    "    print('Top 4 groups for SPEED',s)\n",
    "    auc_by_type_file = roc_path + 'auc_per_type_s{}.pkl'.format(s)\n",
    "    auc_by_type_values = unPickle(auc_by_type_file)\n",
    "    for t in types:\n",
    "        auc_by_type[t] = auc_by_type_values[t].mean()\n",
    "\n",
    "    sorted_auc_by_type = dict(sorted(auc_by_type.items(), key=lambda item: item[1]))\n",
    "    sorted_types = list(sorted_auc_by_type.keys())\n",
    "    top_4s = sorted_types[-4:]\n",
    "    print('  No.1 {}, No.2 {}, No.3 {}, No.4 {}'.format(top_4s[::-1][0],top_4s[::-1][1],\n",
    "                                                        top_4s[::-1][2],top_4s[::-1][3]))"
   ]
  },
  {
   "cell_type": "code",
   "execution_count": 127,
   "id": "6692fc65-0d7a-4b69-8a2e-3de6841eedab",
   "metadata": {},
   "outputs": [],
   "source": [
    "## manually enter\n",
    "next_bests = {\n",
    "    4:30,\n",
    "    12:27,\n",
    "    20:25,\n",
    "    28:27\n",
    "}"
   ]
  },
  {
   "cell_type": "markdown",
   "id": "green-assignment",
   "metadata": {},
   "source": [
    "### statistic tests for G28 v.s. next_best per speed"
   ]
  },
  {
   "cell_type": "code",
   "execution_count": 128,
   "id": "peaceful-eligibility",
   "metadata": {},
   "outputs": [],
   "source": [
    "n_rep=100000"
   ]
  },
  {
   "cell_type": "code",
   "execution_count": 130,
   "id": "4738e953-8a6b-46c3-9337-1471f0031277",
   "metadata": {},
   "outputs": [
    {
     "name": "stdout",
     "output_type": "stream",
     "text": [
      "SPEED 4 , G28 v.sG30\n",
      "    ==========Mean for AUC_per_type==========: \n",
      "        type 28: n_cells = 69, auc = 0.77, std = 0.03\n",
      "        type 30: n_cells = 4, auc = 0.74, std = 0.03\n",
      "    ==========delta AUC AND 95% CI========== \n",
      "        delta auc 28 vs 32 = 0.03\n",
      "        95% CI = [-0.05, 0.01]\n",
      "    ==========Cohen\"s d==========\n",
      "        Cohen's d for type 30: 0.77\n",
      "    ==========Permutation test==========\n",
      "        sum = 13362, p value for type 30: 0.133620\n",
      "SPEED 12 , G28 v.sG27\n",
      "    ==========Mean for AUC_per_type==========: \n",
      "        type 28: n_cells = 69, auc = 0.79, std = 0.02\n",
      "        type 27: n_cells = 16, auc = 0.78, std = 0.04\n",
      "    ==========delta AUC AND 95% CI========== \n",
      "        delta auc 28 vs 32 = 0.01\n",
      "        95% CI = [-0.03, 0.01]\n",
      "    ==========Cohen\"s d==========\n",
      "        Cohen's d for type 27: 0.47\n",
      "    ==========Permutation test==========\n",
      "        sum = 9539, p value for type 27: 0.095390\n",
      "SPEED 20 , G28 v.sG25\n",
      "    ==========Mean for AUC_per_type==========: \n",
      "        type 28: n_cells = 69, auc = 0.80, std = 0.01\n",
      "        type 25: n_cells = 65, auc = 0.79, std = 0.02\n",
      "    ==========delta AUC AND 95% CI========== \n",
      "        delta auc 28 vs 32 = 0.00\n",
      "        95% CI = [-0.01, 0.00]\n",
      "    ==========Cohen\"s d==========\n",
      "        Cohen's d for type 25: 0.20\n",
      "    ==========Permutation test==========\n",
      "        sum = 25512, p value for type 25: 0.255120\n",
      "SPEED 28 , G28 v.sG27\n",
      "    ==========Mean for AUC_per_type==========: \n",
      "        type 28: n_cells = 69, auc = 0.79, std = 0.01\n",
      "        type 27: n_cells = 16, auc = 0.78, std = 0.03\n",
      "    ==========delta AUC AND 95% CI========== \n",
      "        delta auc 28 vs 32 = 0.01\n",
      "        95% CI = [-0.03, 0.00]\n",
      "    ==========Cohen\"s d==========\n",
      "        Cohen's d for type 27: 0.66\n",
      "    ==========Permutation test==========\n",
      "        sum = 2159, p value for type 27: 0.021590\n"
     ]
    }
   ],
   "source": [
    "for speed in [4,12,20,28]:\n",
    "    next_best = next_bests[speed]\n",
    "    print('SPEED {} , G28 v.sG{}'.format(speed,next_best))\n",
    "    auc_by_type_file = roc_path + 'auc_per_type_s{}.pkl'.format(speed)\n",
    "    auc_by_type_values = unPickle(auc_by_type_file)\n",
    "\n",
    "    print('    ==========Mean for AUC_per_type==========: ')\n",
    "    auc_by_type[28] = auc_by_type_values[28].mean()\n",
    "    print(\"        type {}: n_cells = {}, auc = {:.2f}, std = {:.2f}\".format(28, \n",
    "                                                                             len(auc_by_type_values[28]), \n",
    "                                                                             auc_by_type[28],\n",
    "                                                                             auc_by_type_values[28].std()))\n",
    "    \n",
    "    auc_by_type[next_best] = auc_by_type_values[next_best].mean()\n",
    "    print(\"        type {}: n_cells = {}, auc = {:.2f}, std = {:.2f}\".format(next_best,\n",
    "                                                                             len(auc_by_type_values[next_best]), \n",
    "                                                                             auc_by_type[next_best],\n",
    "                                                                             auc_by_type_values[next_best].std()))\n",
    "\n",
    "    \n",
    "    print('    ==========delta AUC AND 95% CI========== ')\n",
    "    print(\"        delta auc 28 vs {} = {:.2f}\".format(t, auc_by_type[28] - auc_by_type[next_best]))\n",
    "    [lower_bound, upper_bound], _ = bootstrap_ci(auc_by_type_values[next_best], auc_by_type_values[28])\n",
    "    print(\"        95% CI = [{:.2f}, {:.2f}]\".format(lower_bound, upper_bound))\n",
    "    \n",
    "    print('    ==========Cohen\"s d==========')\n",
    "    d = cohens_d(auc_by_type_values[next_best], auc_by_type_values[28])\n",
    "    print(\"        Cohen's d for type {}: {:.2f}\".format(next_best, d))\n",
    "        \n",
    "    print('    ==========Permutation test==========')\n",
    "    permuted_delta, orig_delta,p = perform_permutation_test(auc_by_type_values[next_best], \n",
    "                                                      auc_by_type_values[28],\n",
    "                                                     n_rep=n_rep)\n",
    "    print(\"        sum = {}, p value for type {}: {:.6f}\".format(sum(permuted_delta>orig_delta),\n",
    "                                                                 next_best, p))"
   ]
  }
 ],
 "metadata": {
  "kernelspec": {
   "display_name": "Python 3 (ipykernel)",
   "language": "python",
   "name": "python3"
  },
  "language_info": {
   "codemirror_mode": {
    "name": "ipython",
    "version": 3
   },
   "file_extension": ".py",
   "mimetype": "text/x-python",
   "name": "python",
   "nbconvert_exporter": "python",
   "pygments_lexer": "ipython3",
   "version": "3.11.5"
  }
 },
 "nbformat": 4,
 "nbformat_minor": 5
}
