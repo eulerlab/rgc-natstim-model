{
 "cells": [
  {
   "cell_type": "markdown",
   "id": "simplified-trace",
   "metadata": {},
   "source": [
    "# Imports and definitions"
   ]
  },
  {
   "cell_type": "code",
   "execution_count": 2,
   "id": "international-accuracy",
   "metadata": {},
   "outputs": [
    {
     "name": "stdout",
     "output_type": "stream",
     "text": [
      "env: DJ_SUPPORT_FILEPATH_MANAGEMENT=TRUE\n"
     ]
    }
   ],
   "source": [
    "%env DJ_SUPPORT_FILEPATH_MANAGEMENT TRUE\n",
    "%load_ext autoreload\n",
    "%autoreload 2\n",
    "%matplotlib inline\n",
    "import sys, os\n",
    "import numpy as np\n",
    "from rgc_natstim_model.analyses.context_change_detection import bootstrap_ci, cohens_d, perform_permutation_test\n",
    "from rgc_natstim_model.constants.plot_settings import cmap_colors as rgc_colors\n",
    "from rgc_natstim_model.utils.data_handling import unPickle,makePickle"
   ]
  },
  {
   "cell_type": "markdown",
   "id": "prescription-camcorder",
   "metadata": {},
   "source": [
    "## Calculate delta AUC between all pairs of RGC types; \n",
    "## calculate a bootstrap confidence interval for the delta (significant if it doesn't include 0); \n",
    "## calculate Cohen's d as a measure of effect size, and perform a permutation test "
   ]
  },
  {
   "cell_type": "code",
   "execution_count": 5,
   "id": "appointed-career",
   "metadata": {},
   "outputs": [],
   "source": [
    "base_folder = '/gpfs01/euler/data/SharedFiles/projects/Hoefling2024/'\n",
    "roc_path = base_folder+'data/simulation/roc/'\n",
    "respGen_path = base_folder+'data/simulation/response_generation/'\n",
    "stimGen_path = base_folder+'data/simulation/stimulus_generation/'"
   ]
  },
  {
   "cell_type": "code",
   "execution_count": 8,
   "id": "d21717f7-647b-4604-9e81-b68ff619a9a1",
   "metadata": {},
   "outputs": [],
   "source": [
    "speed = 4"
   ]
  },
  {
   "cell_type": "code",
   "execution_count": 9,
   "id": "b8dbf95d-9249-435e-ad94-18ec0e17be03",
   "metadata": {},
   "outputs": [],
   "source": [
    "auc_by_type_values = unPickle(auc_path+'auc_per_type_s{}.pkl'.format(speed))"
   ]
  },
  {
   "cell_type": "code",
   "execution_count": 11,
   "id": "posted-convertible",
   "metadata": {},
   "outputs": [
    {
     "name": "stdout",
     "output_type": "stream",
     "text": [
      "[ 1  2  3  4  5  6  7  8  9 10 11 12 13 14 15 16 17 18 19 20 21 22 23 24\n",
      " 25 26 27 28 29 30 31 32]\n"
     ]
    }
   ],
   "source": [
    "types = np.arange(1, 33)\n",
    "print(types)"
   ]
  },
  {
   "cell_type": "code",
   "execution_count": 14,
   "id": "classical-junior",
   "metadata": {
    "scrolled": true
   },
   "outputs": [
    {
     "name": "stdout",
     "output_type": "stream",
     "text": [
      "type 1: n_cells = 31, auc = 0.55\n",
      "type 2: n_cells = 12, auc = 0.54\n",
      "type 3: n_cells = 8, auc = 0.57\n",
      "type 4: n_cells = 51, auc = 0.52\n",
      "type 5: n_cells = 33, auc = 0.51\n",
      "type 6: n_cells = 11, auc = 0.52\n",
      "type 7: n_cells = 22, auc = 0.52\n",
      "type 8: n_cells = 15, auc = 0.54\n",
      "type 9: n_cells = 14, auc = 0.53\n",
      "type 10: n_cells = 26, auc = 0.58\n",
      "type 11: n_cells = 56, auc = 0.54\n",
      "type 12: n_cells = 86, auc = 0.56\n",
      "type 13: n_cells = 18, auc = 0.57\n",
      "type 14: n_cells = 15, auc = 0.55\n",
      "type 15: n_cells = 1, auc = 0.72\n",
      "type 16: n_cells = 9, auc = 0.62\n",
      "type 17: n_cells = 262, auc = 0.60\n",
      "type 18: n_cells = 108, auc = 0.55\n",
      "type 19: n_cells = 2, auc = 0.53\n",
      "type 20: n_cells = 45, auc = 0.54\n",
      "type 21: n_cells = 56, auc = 0.64\n",
      "type 22: n_cells = 160, auc = 0.68\n",
      "type 23: n_cells = 150, auc = 0.66\n",
      "type 24: n_cells = 29, auc = 0.65\n",
      "type 25: n_cells = 65, auc = 0.68\n",
      "type 26: n_cells = 26, auc = 0.58\n",
      "type 27: n_cells = 16, auc = 0.73\n",
      "type 28: n_cells = 69, auc = 0.77\n",
      "type 29: n_cells = 49, auc = 0.67\n",
      "type 30: n_cells = 4, auc = 0.74\n",
      "type 31: n_cells = 205, auc = 0.64\n",
      "type 32: n_cells = 293, auc = 0.54\n"
     ]
    }
   ],
   "source": [
    "auc_by_type = dict.fromkeys(types)\n",
    "for t in types:\n",
    "    auc_by_type[t] = auc_by_type_values[t].mean()\n",
    "    print(\"type {}: n_cells = {}, auc = {:.2f}\".format(t, len(auc_by_type_values[t]), auc_by_type[t]))"
   ]
  },
  {
   "cell_type": "markdown",
   "id": "disciplinary-studio",
   "metadata": {},
   "source": [
    "## Bootstrapped 95% CI"
   ]
  },
  {
   "cell_type": "code",
   "execution_count": 15,
   "id": "academic-satellite",
   "metadata": {},
   "outputs": [
    {
     "data": {
      "text/plain": [
       "dict_keys([1, 2, 3, 4, 5, 6, 7, 8, 9, 10, 11, 12, 13, 14, 15, 16, 17, 18, 19, 20, 21, 22, 23, 24, 25, 26, 27, 28, 29, 30, 31, 32])"
      ]
     },
     "execution_count": 15,
     "metadata": {},
     "output_type": "execute_result"
    }
   ],
   "source": [
    "auc_by_type.keys()"
   ]
  },
  {
   "cell_type": "code",
   "execution_count": 17,
   "id": "incomplete-causing",
   "metadata": {
    "scrolled": true
   },
   "outputs": [
    {
     "name": "stdout",
     "output_type": "stream",
     "text": [
      "For type 1\n",
      "    delta auc 28 vs 1 = 0.22\n",
      "    95% CI = [-0.25, -0.19]\n",
      "For type 2\n",
      "    delta auc 28 vs 2 = 0.23\n",
      "    95% CI = [-0.25, -0.20]\n",
      "For type 3\n",
      "    delta auc 28 vs 3 = 0.20\n",
      "    95% CI = [-0.23, -0.16]\n",
      "For type 4\n",
      "    delta auc 28 vs 4 = 0.25\n",
      "    95% CI = [-0.26, -0.24]\n",
      "For type 5\n",
      "    delta auc 28 vs 5 = 0.26\n",
      "    95% CI = [-0.27, -0.24]\n",
      "For type 6\n",
      "    delta auc 28 vs 6 = 0.25\n",
      "    95% CI = [-0.28, -0.22]\n",
      "For type 7\n",
      "    delta auc 28 vs 7 = 0.25\n",
      "    95% CI = [-0.28, -0.22]\n",
      "For type 8\n",
      "    delta auc 28 vs 8 = 0.23\n",
      "    95% CI = [-0.26, -0.21]\n",
      "For type 9\n",
      "    delta auc 28 vs 9 = 0.24\n",
      "    95% CI = [-0.26, -0.22]\n",
      "For type 10\n",
      "    delta auc 28 vs 10 = 0.18\n",
      "    95% CI = [-0.21, -0.16]\n",
      "For type 11\n",
      "    delta auc 28 vs 11 = 0.23\n",
      "    95% CI = [-0.25, -0.21]\n",
      "For type 12\n",
      "    delta auc 28 vs 12 = 0.21\n",
      "    95% CI = [-0.23, -0.20]\n",
      "For type 13\n",
      "    delta auc 28 vs 13 = 0.20\n",
      "    95% CI = [-0.26, -0.16]\n",
      "For type 14\n",
      "    delta auc 28 vs 14 = 0.22\n",
      "    95% CI = [-0.25, -0.19]\n",
      "For type 15\n",
      "    delta auc 28 vs 15 = 0.05\n",
      "    95% CI = [-0.05, -0.04]\n",
      "For type 16\n",
      "    delta auc 28 vs 16 = 0.15\n",
      "    95% CI = [-0.19, -0.11]\n",
      "For type 17\n",
      "    delta auc 28 vs 17 = 0.17\n",
      "    95% CI = [-0.18, -0.16]\n",
      "For type 18\n",
      "    delta auc 28 vs 18 = 0.22\n",
      "    95% CI = [-0.23, -0.21]\n",
      "For type 19\n",
      "    delta auc 28 vs 19 = 0.24\n",
      "    95% CI = [-0.27, -0.21]\n",
      "For type 20\n",
      "    delta auc 28 vs 20 = 0.23\n",
      "    95% CI = [-0.24, -0.21]\n",
      "For type 21\n",
      "    delta auc 28 vs 21 = 0.13\n",
      "    95% CI = [-0.15, -0.12]\n",
      "For type 22\n",
      "    delta auc 28 vs 22 = 0.09\n",
      "    95% CI = [-0.10, -0.07]\n",
      "For type 23\n",
      "    delta auc 28 vs 23 = 0.11\n",
      "    95% CI = [-0.12, -0.10]\n",
      "For type 24\n",
      "    delta auc 28 vs 24 = 0.12\n",
      "    95% CI = [-0.14, -0.10]\n",
      "For type 25\n",
      "    delta auc 28 vs 25 = 0.09\n",
      "    95% CI = [-0.10, -0.08]\n",
      "For type 26\n",
      "    delta auc 28 vs 26 = 0.18\n",
      "    95% CI = [-0.22, -0.15]\n",
      "For type 27\n",
      "    delta auc 28 vs 27 = 0.04\n",
      "    95% CI = [-0.07, -0.01]\n",
      "For type 28\n",
      "    delta auc 28 vs 28 = 0.00\n",
      "    95% CI = [-0.01, 0.01]\n",
      "For type 29\n",
      "    delta auc 28 vs 29 = 0.10\n",
      "    95% CI = [-0.11, -0.08]\n",
      "For type 30\n",
      "    delta auc 28 vs 30 = 0.03\n",
      "    95% CI = [-0.05, -0.00]\n",
      "For type 31\n",
      "    delta auc 28 vs 31 = 0.13\n",
      "    95% CI = [-0.14, -0.11]\n",
      "For type 32\n",
      "    delta auc 28 vs 32 = 0.23\n",
      "    95% CI = [-0.25, -0.22]\n"
     ]
    }
   ],
   "source": [
    "for t in types:\n",
    "    print('For type {}'.format(t))\n",
    "    print(\"    delta auc 28 vs {} = {:.2f}\".format(t, auc_by_type[28] - auc_by_type[t]))\n",
    "    [lower_bound, upper_bound], _ = bootstrap_ci(auc_by_type_values[t], auc_by_type_values[28])\n",
    "    print(\"    95% CI = [{:.2f}, {:.2f}]\".format(lower_bound, upper_bound))"
   ]
  },
  {
   "cell_type": "markdown",
   "id": "exclusive-washer",
   "metadata": {},
   "source": [
    "## Cohen's d"
   ]
  },
  {
   "cell_type": "code",
   "execution_count": 18,
   "id": "antique-auckland",
   "metadata": {
    "scrolled": true
   },
   "outputs": [
    {
     "name": "stdout",
     "output_type": "stream",
     "text": [
      "For type 1\n",
      "    Cohen's d for type 1: 4.36\n",
      "For type 2\n",
      "    Cohen's d for type 2: 6.09\n",
      "For type 3\n",
      "    Cohen's d for type 3: 5.44\n",
      "For type 4\n",
      "    Cohen's d for type 4: 6.10\n",
      "For type 5\n",
      "    Cohen's d for type 5: 7.11\n",
      "For type 6\n",
      "    Cohen's d for type 6: 6.58\n",
      "For type 7\n",
      "    Cohen's d for type 7: 5.52\n",
      "For type 8\n",
      "    Cohen's d for type 8: 6.17\n",
      "For type 9\n",
      "    Cohen's d for type 9: 6.61\n",
      "For type 10\n",
      "    Cohen's d for type 10: 4.45\n",
      "For type 11\n",
      "    Cohen's d for type 11: 4.01\n",
      "For type 12\n",
      "    Cohen's d for type 12: 3.58\n",
      "For type 13\n",
      "    Cohen's d for type 13: 3.43\n",
      "For type 14\n",
      "    Cohen's d for type 14: 5.62\n",
      "For type 15\n",
      "    Cohen's d for type 15: 1.34\n",
      "For type 16\n",
      "    Cohen's d for type 16: 3.73\n",
      "For type 17\n",
      "    Cohen's d for type 17: 2.74\n",
      "For type 18\n",
      "    Cohen's d for type 18: 5.51\n",
      "For type 19\n",
      "    Cohen's d for type 19: 6.94\n",
      "For type 20\n",
      "    Cohen's d for type 20: 5.80\n",
      "For type 21\n",
      "    Cohen's d for type 21: 2.99\n",
      "For type 22\n",
      "    Cohen's d for type 22: 1.64\n",
      "For type 23\n",
      "    Cohen's d for type 23: 2.63\n",
      "For type 24\n",
      "    Cohen's d for type 24: 3.04\n",
      "For type 25\n",
      "    Cohen's d for type 25: 2.29\n",
      "For type 26\n",
      "    Cohen's d for type 26: 3.16\n",
      "For type 27\n",
      "    Cohen's d for type 27: 0.85\n",
      "For type 28\n",
      "    Cohen's d for type 28: 0.00\n",
      "For type 29\n",
      "    Cohen's d for type 29: 2.12\n",
      "For type 30\n",
      "    Cohen's d for type 30: 0.77\n",
      "For type 31\n",
      "    Cohen's d for type 31: 1.47\n",
      "For type 32\n",
      "    Cohen's d for type 32: 2.11\n"
     ]
    }
   ],
   "source": [
    "for t in types:\n",
    "    print('For type {}'.format(t))\n",
    "    d = cohens_d(auc_by_type_values[t], auc_by_type_values[28])\n",
    "    print(\"    Cohen's d for type {}: {:.2f}\".format(t, d))"
   ]
  },
  {
   "cell_type": "markdown",
   "id": "engaging-validity",
   "metadata": {},
   "source": [
    "#### permutation test\n"
   ]
  },
  {
   "cell_type": "code",
   "execution_count": null,
   "id": "verified-venture",
   "metadata": {},
   "outputs": [],
   "source": [
    "n_rep = 100000\n",
    "for t in types:\n",
    "    print('For type {}'.format(t))\n",
    "    permuted_delta, orig_delta, p  = perform_permutation_test(auc_by_type_values[t], \n",
    "                                                          auc_by_type_values[28],\n",
    "                                                         n_rep=n_rep)\n",
    "    print(\"    p value  {:.2f}\".format(p))"
   ]
  },
  {
   "cell_type": "markdown",
   "id": "desperate-graphic",
   "metadata": {},
   "source": [
    "## Loop through all speeds for 95% CI, Cohen'd and permutation test"
   ]
  },
  {
   "cell_type": "markdown",
   "id": "personalized-robinson",
   "metadata": {},
   "source": [
    "### (NOT INCLUDED IN Supp.) G28 v.s. all other 30 groups (except for G15)"
   ]
  },
  {
   "cell_type": "code",
   "execution_count": 41,
   "id": "sporting-appliance",
   "metadata": {},
   "outputs": [
    {
     "name": "stdout",
     "output_type": "stream",
     "text": [
      "Speed  4\n",
      "type 28: n_cells = 69, auc = 0.77, std = 0.03\n",
      "type -1: n_cells = 1877, auc = 0.60, std = 0.10\n",
      "==========delta AUC AND 95% CI==========\n",
      "delta auc 28 vs 28 = 0.00\n",
      "95% CI = [-0.01, 0.01]\n",
      "delta auc 28 vs -1 = 0.17\n",
      "95% CI = [-0.18, -0.16]\n",
      "==========Cohen\"s d==========\n",
      "Cohen's d for type 28: 0.00\n",
      "Cohen's d for type -1: 1.81\n",
      "==========Permutation test:==========\n",
      "For type 28, sum(permuted_delta>orig_delta): 100000\n",
      "p value for,type 28: 1.000000\n",
      "For type -1, sum(permuted_delta>orig_delta): 0\n",
      "p value for,type -1: 0.000000\n",
      "Speed  12\n",
      "type 28: n_cells = 69, auc = 0.79, std = 0.02\n",
      "type -1: n_cells = 1877, auc = 0.66, std = 0.13\n",
      "==========delta AUC AND 95% CI==========\n",
      "delta auc 28 vs 28 = 0.00\n",
      "95% CI = [-0.01, 0.01]\n",
      "delta auc 28 vs -1 = 0.13\n",
      "95% CI = [-0.14, -0.13]\n",
      "==========Cohen\"s d==========\n",
      "Cohen's d for type 28: 0.00\n",
      "Cohen's d for type -1: 1.06\n",
      "==========Permutation test:==========\n",
      "For type 28, sum(permuted_delta>orig_delta): 100000\n",
      "p value for,type 28: 1.000000\n",
      "For type -1, sum(permuted_delta>orig_delta): 0\n",
      "p value for,type -1: 0.000000\n",
      "Speed  20\n",
      "type 28: n_cells = 69, auc = 0.80, std = 0.01\n",
      "type -1: n_cells = 1877, auc = 0.68, std = 0.15\n",
      "==========delta AUC AND 95% CI==========\n",
      "delta auc 28 vs 28 = 0.00\n",
      "95% CI = [-0.00, 0.00]\n",
      "delta auc 28 vs -1 = 0.12\n",
      "95% CI = [-0.13, -0.11]\n",
      "==========Cohen\"s d==========\n",
      "Cohen's d for type 28: 0.00\n",
      "Cohen's d for type -1: 0.82\n",
      "==========Permutation test:==========\n",
      "For type 28, sum(permuted_delta>orig_delta): 100000\n",
      "p value for,type 28: 1.000000\n",
      "For type -1, sum(permuted_delta>orig_delta): 0\n",
      "p value for,type -1: 0.000000\n",
      "Speed  28\n",
      "type 28: n_cells = 69, auc = 0.79, std = 0.01\n",
      "type -1: n_cells = 1877, auc = 0.65, std = 0.16\n",
      "==========delta AUC AND 95% CI==========\n",
      "delta auc 28 vs 28 = 0.00\n",
      "95% CI = [-0.00, 0.00]\n",
      "delta auc 28 vs -1 = 0.14\n",
      "95% CI = [-0.15, -0.13]\n",
      "==========Cohen\"s d==========\n",
      "Cohen's d for type 28: 0.00\n",
      "Cohen's d for type -1: 0.91\n",
      "==========Permutation test:==========\n",
      "For type 28, sum(permuted_delta>orig_delta): 100000\n",
      "p value for,type 28: 1.000000\n",
      "For type -1, sum(permuted_delta>orig_delta): 0\n",
      "p value for,type -1: 0.000000\n"
     ]
    }
   ],
   "source": [
    "types = [28,-1]\n",
    "for s in [4,12,20,28]:\n",
    "    print('Speed ',s)\n",
    "    auc_by_type_file = auc_path + 'auc_per_type_s{}.pkl'.format(s)\n",
    "    auc_by_type_values = unPickle(auc_by_type_file)\n",
    "    \n",
    "    auc_28_no_28 = {28:None,-1:None}\n",
    "    auc_by_type = {28:None,-1:None}\n",
    "    \n",
    "    auc_28_no_28[28] = auc_by_type_values[28]\n",
    "    temp = []\n",
    "    \n",
    "    for i in range(1,33):\n",
    "        if i not in [28,15]:\n",
    "            temp = temp + list(auc_by_type_values[i])\n",
    "    auc_28_no_28[-1] = np.array(temp)\n",
    "    \n",
    "    for t in types:\n",
    "        auc_by_type[t] = auc_28_no_28[t].mean()\n",
    "        print(\"type {}: n_cells = {}, auc = {:.2f}, std = {:.2f}\".format(t, len(auc_28_no_28[t]), \n",
    "                                                                         auc_by_type[t],\n",
    "                                                                        auc_28_no_28[t].std()))\n",
    "    print('==========delta AUC AND 95% CI==========')\n",
    "    for t in types:\n",
    "        print(\"delta auc 28 vs {} = {:.2f}\".format(t, auc_by_type[28] - auc_by_type[t]))\n",
    "        [lower_bound, upper_bound], _ = bootstrap_ci(auc_28_no_28[t], auc_28_no_28[28])\n",
    "        print(\"95% CI = [{:.2f}, {:.2f}]\".format(lower_bound, upper_bound))\n",
    "    \n",
    "    print('==========Cohen\"s d==========')\n",
    "    for t in types:\n",
    "        d = cohens_d(auc_28_no_28[t], auc_28_no_28[28])\n",
    "        print(\"Cohen's d for type {}: {:.2f}\".format(t, d))\n",
    "    \n",
    "    print('==========Permutation test:==========')\n",
    "    for t in types:\n",
    "        permuted_delta, orig_delta,p = perform_permutation_test(auc_28_no_28[t], \n",
    "                                                          auc_28_no_28[28],\n",
    "                                                         n_rep=n_rep)\n",
    "        print(\"For type {}, sum(permuted_delta>orig_delta): {}\".format(t,sum(permuted_delta>orig_delta)))\n",
    "        print(\"p value for,type {}: {:.6f}\".format(t,p))"
   ]
  },
  {
   "cell_type": "markdown",
   "id": "potential-reservation",
   "metadata": {},
   "source": [
    "### G28 and next-best"
   ]
  },
  {
   "cell_type": "code",
   "execution_count": 29,
   "id": "cooked-dominant",
   "metadata": {},
   "outputs": [],
   "source": [
    "def find_top4(l,temp):\n",
    "    no1_idx = np.argmax(temp)\n",
    "    print(l.index(temp.pop(no1_idx))+1)\n",
    "    no2_idx = np.argmax(temp)\n",
    "    print(l.index(temp.pop(no2_idx))+1)\n",
    "    no3_idx = np.argmax(temp)\n",
    "    print(l.index(temp.pop(no3_idx))+1)\n",
    "    no4_idx = np.argmax(temp)\n",
    "    print(l.index(temp.pop(no4_idx))+1)\n",
    "    # print(temp,l)"
   ]
  },
  {
   "cell_type": "markdown",
   "id": "18b388a1-ffa7-4699-8168-cb1030875ceb",
   "metadata": {},
   "source": [
    "### first, find the top 4 groups\n",
    "#### then pick the group that is worse than G28"
   ]
  },
  {
   "cell_type": "code",
   "execution_count": 33,
   "id": "differential-spare",
   "metadata": {},
   "outputs": [
    {
     "name": "stdout",
     "output_type": "stream",
     "text": [
      "Top 4 groups for SPEED 4\n",
      "28\n",
      "30\n",
      "27\n",
      "15\n",
      "Top 4 groups for SPEED 12\n",
      "30\n",
      "15\n",
      "28\n",
      "27\n",
      "Top 4 groups for SPEED 20\n",
      "15\n",
      "28\n",
      "25\n",
      "27\n",
      "Top 4 groups for SPEED 28\n",
      "15\n",
      "28\n",
      "27\n",
      "25\n"
     ]
    }
   ],
   "source": [
    "types = np.arange(1, 33)\n",
    "\n",
    "for s in [4,12,20,28]:\n",
    "    mean_per_types =[]\n",
    "    print('Top 4 groups for SPEED',s)\n",
    "    auc_by_type_file = auc_path + 'auc_per_type_s{}.pkl'.format(s)\n",
    "    \n",
    "    # print('Open: ',auc_by_type_file)\n",
    "    auc_by_type_values = unPickle(auc_by_type_file)\n",
    "    \n",
    "    for t in types:\n",
    "        mean_per_types.append(np.mean(auc_by_type_values[t]))\n",
    "    tmp = list(np.copy(mean_per_types))\n",
    "    find_top4(tmp,mean_per_types)"
   ]
  },
  {
   "cell_type": "code",
   "execution_count": 38,
   "id": "6692fc65-0d7a-4b69-8a2e-3de6841eedab",
   "metadata": {},
   "outputs": [],
   "source": [
    "next_bests = {\n",
    "    4:30,\n",
    "    12:27,\n",
    "    20:25,\n",
    "    28:27\n",
    "}"
   ]
  },
  {
   "cell_type": "markdown",
   "id": "green-assignment",
   "metadata": {},
   "source": [
    "#### G28 v.s. next_best per speed"
   ]
  },
  {
   "cell_type": "code",
   "execution_count": 56,
   "id": "peaceful-eligibility",
   "metadata": {},
   "outputs": [],
   "source": [
    "n_rep=100000"
   ]
  },
  {
   "cell_type": "code",
   "execution_count": 47,
   "id": "4738e953-8a6b-46c3-9337-1471f0031277",
   "metadata": {},
   "outputs": [
    {
     "name": "stdout",
     "output_type": "stream",
     "text": [
      "SPEED  4\n",
      "30\n",
      "    ==========mean for AUC_per_type==========: \n",
      "        type 28: n_cells = 69, auc = 0.77, std = 0.03\n",
      "        type 30: n_cells = 4, auc = 0.74, std = 0.03\n",
      "    ==========delta AUC AND 95% CI========== \n",
      "        delta auc 28 vs 30 = 0.03\n",
      "        95% CI = [-0.05, -0.00]\n",
      "    ==========Cohen\"s d==========\n",
      "        Cohen's d for type 30: 0.77\n",
      "    ==========Permutation test==========\n",
      "        sum = 13362, p value for type 30: 0.133620\n",
      "SPEED  12\n",
      "27\n",
      "    ==========mean for AUC_per_type==========: \n",
      "        type 28: n_cells = 69, auc = 0.79, std = 0.02\n",
      "        type 27: n_cells = 16, auc = 0.78, std = 0.04\n",
      "    ==========delta AUC AND 95% CI========== \n",
      "        delta auc 28 vs 27 = 0.01\n",
      "        95% CI = [-0.03, 0.01]\n",
      "    ==========Cohen\"s d==========\n",
      "        Cohen's d for type 27: 0.47\n",
      "    ==========Permutation test==========\n",
      "        sum = 9539, p value for type 27: 0.095390\n",
      "SPEED  20\n",
      "25\n",
      "    ==========mean for AUC_per_type==========: \n",
      "        type 28: n_cells = 69, auc = 0.80, std = 0.01\n",
      "        type 25: n_cells = 65, auc = 0.79, std = 0.02\n",
      "    ==========delta AUC AND 95% CI========== \n",
      "        delta auc 28 vs 25 = 0.00\n",
      "        95% CI = [-0.01, 0.00]\n",
      "    ==========Cohen\"s d==========\n",
      "        Cohen's d for type 25: 0.20\n",
      "    ==========Permutation test==========\n",
      "        sum = 25512, p value for type 25: 0.255120\n",
      "SPEED  28\n",
      "27\n",
      "    ==========mean for AUC_per_type==========: \n",
      "        type 28: n_cells = 69, auc = 0.79, std = 0.01\n",
      "        type 27: n_cells = 16, auc = 0.78, std = 0.03\n",
      "    ==========delta AUC AND 95% CI========== \n",
      "        delta auc 28 vs 27 = 0.01\n",
      "        95% CI = [-0.03, 0.00]\n",
      "    ==========Cohen\"s d==========\n",
      "        Cohen's d for type 27: 0.66\n",
      "    ==========Permutation test==========\n",
      "        sum = 2159, p value for type 27: 0.021590\n"
     ]
    }
   ],
   "source": [
    "for s in [4,12,20,28]:\n",
    "    print('SPEED ',s)\n",
    "    auc_by_type_file = auc_path + 'auc_per_type_s{}.pkl'.format(s)\n",
    "    auc_by_type_values = unPickle(auc_by_type_file)\n",
    "\n",
    "    t = next_bests[s]\n",
    "    print(t)\n",
    "\n",
    "    print('    ==========mean for AUC_per_type==========: ')\n",
    "    auc_by_type[28] = auc_by_type_values[28].mean()\n",
    "    print(\"        type {}: n_cells = {}, auc = {:.2f}, std = {:.2f}\".format(28, \n",
    "                                                                             len(auc_by_type_values[28]), \n",
    "                                                                             auc_by_type[28],\n",
    "                                                                             auc_by_type_values[28].std()))\n",
    "    \n",
    "    auc_by_type[t] = auc_by_type_values[t].mean()\n",
    "    print(\"        type {}: n_cells = {}, auc = {:.2f}, std = {:.2f}\".format(t, len(auc_by_type_values[t]), auc_by_type[t],auc_by_type_values[t].std()))\n",
    "\n",
    "    \n",
    "    print('    ==========delta AUC AND 95% CI========== ')\n",
    "    print(\"        delta auc 28 vs {} = {:.2f}\".format(t, auc_by_type[28] - auc_by_type[t]))\n",
    "    [lower_bound, upper_bound], _ = bootstrap_ci(auc_by_type_values[t], auc_by_type_values[28])\n",
    "    print(\"        95% CI = [{:.2f}, {:.2f}]\".format(lower_bound, upper_bound))\n",
    "    \n",
    "    print('    ==========Cohen\"s d==========')\n",
    "    d = cohens_d(auc_by_type_values[t], auc_by_type_values[28])\n",
    "    print(\"        Cohen's d for type {}: {:.2f}\".format(t, d))\n",
    "        \n",
    "    print('    ==========Permutation test==========')\n",
    "    permuted_delta, orig_delta,p = perform_permutation_test(auc_by_type_values[t], \n",
    "                                                      auc_by_type_values[28],\n",
    "                                                     n_rep=n_rep)\n",
    "    print(\"        sum = {}, p value for type {}: {:.6f}\".format(sum(permuted_delta>orig_delta),t, p))"
   ]
  }
 ],
 "metadata": {
  "kernelspec": {
   "display_name": "Python 3 (ipykernel)",
   "language": "python",
   "name": "python3"
  },
  "language_info": {
   "codemirror_mode": {
    "name": "ipython",
    "version": 3
   },
   "file_extension": ".py",
   "mimetype": "text/x-python",
   "name": "python",
   "nbconvert_exporter": "python",
   "pygments_lexer": "ipython3",
   "version": "3.11.5"
  }
 },
 "nbformat": 4,
 "nbformat_minor": 5
}
