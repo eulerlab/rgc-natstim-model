{
 "cells": [
  {
   "cell_type": "code",
   "execution_count": 33,
   "id": "463ca384-b57f-483b-9380-7ccf45e2ea74",
   "metadata": {},
   "outputs": [],
   "source": [
    "import os\n",
    "import pickle\n",
    "import gc\n",
    "\n",
    "import matplotlib as mpl\n",
    "import matplotlib.pyplot as plt\n",
    "import seaborn as sns\n",
    "import torch\n",
    "import numpy as np\n",
    "import pandas as pd\n",
    "from openretina.hoefling_2024.configs import model_config, trainer_config,pre_normalisation_values\n",
    "from openretina.hoefling_2024.data_io import natmov_dataloaders_v2\n",
    "from openretina.hoefling_2024.models import SFB3d_core_SxF3d_readout\n",
    "from openretina.hoefling_2024.nnfabrik_model_loading import load_ensemble_retina_model_from_directory\n",
    "from openretina.hoefling_2024.nnfabrik_model_loading import Center\n",
    "from openretina.neuron_data_io import make_final_responses\n",
    "from openretina.training import standard_early_stop_trainer as trainer\n",
    "from openretina.utils.h5_handling import load_h5_into_dict\n",
    "from openretina.utils.misc import CustomPrettyPrinter\n",
    "from rgc_natstim_model.constants.plot_settings import cmap_colors as rgc_colors\n",
    "from rgc_natstim_model.utils.data_handling import unPickle,makePickle"
   ]
  },
  {
   "cell_type": "code",
   "execution_count": 2,
   "id": "ff1d62b0-f083-46be-84bb-20bed56dd37f",
   "metadata": {},
   "outputs": [],
   "source": [
    "%load_ext autoreload\n",
    "%autoreload 2\n",
    "\n",
    "%matplotlib inline\n",
    "%config InlineBackend.figure_format = 'retina'\n",
    "\n",
    "pp = CustomPrettyPrinter(indent=4, max_lines=40)\n",
    "\n",
    "from scipy.stats import pearsonr as lincorr\n",
    "\n",
    "from functools import partial\n",
    "\n",
    "import sys\n",
    "sys.path.append('/gpfs01/euler/User/lhoefling/GitHub/nnfabrik_euler')"
   ]
  },
  {
   "cell_type": "code",
   "execution_count": 3,
   "id": "7dde2907-2da3-436c-98c6-42ec8b4d34f9",
   "metadata": {},
   "outputs": [],
   "source": [
    "from rgc_natstim_model.utils.inference import get_model_responses\n",
    "from rgc_natstim_model.utils.data_handling import convert_nested_dict_to_dataframe"
   ]
  },
  {
   "cell_type": "code",
   "execution_count": 4,
   "id": "ef3e3ebb-f3b4-42aa-9fa0-2fe906f852a6",
   "metadata": {},
   "outputs": [],
   "source": [
    "from rgc_natstim_model.analyses.eval import calculate_correlations, calculate_nat_reliability_index"
   ]
  },
  {
   "cell_type": "code",
   "execution_count": 5,
   "id": "d6cac4e9-a6dd-456d-8a6a-3a068995b269",
   "metadata": {},
   "outputs": [],
   "source": [
    "from rgc_natstim_model.constants.identifiers import dh2eh, dh2eh_linear, example_nids"
   ]
  },
  {
   "cell_type": "code",
   "execution_count": 6,
   "id": "ed89d813-6a44-4811-800f-0c5d620e8f8d",
   "metadata": {},
   "outputs": [],
   "source": [
    "dataset_hashes = list(dh2eh.keys())\n",
    "ensemble_hashes = list(dh2eh.values())\n",
    "\n",
    "file_name_template = r'2024-06-15_neuron_data_stim_c285329_responses_{}_wri.h5'\n",
    "data_file_names = [file_name_template.format(dh[:7]) for dh in dataset_hashes]\n",
    "\n",
    "data_file_names.pop()\n",
    "data_file_names.append('2024-06-15_neuron_data_stim_41fc277_responses_5e62060_wri.h5')\n",
    "\n",
    "model_type = 'nonlinear'\n",
    "\n",
    "base_folder = '/gpfs01/euler/data/SharedFiles/projects/Hoefling2024/'\n",
    "\n",
    "movie_file_name = '2024-01-11_movies_dict_c285329.pkl'\n",
    "flipped_movie_file_name = '2024-05-27_movies_dict_41fc277.pkl'"
   ]
  },
  {
   "cell_type": "code",
   "execution_count": 7,
   "id": "0138c602-2070-4c5b-8152-de45accb4bc3",
   "metadata": {},
   "outputs": [],
   "source": [
    "from rgc_natstim_model.constants.identifiers import dh2eh, dh2eh_linear, example_nids"
   ]
  },
  {
   "cell_type": "code",
   "execution_count": 8,
   "id": "86c95f5a-2da3-4515-9e09-90c77a3b55cf",
   "metadata": {},
   "outputs": [],
   "source": [
    "dataset_hashes = list(dh2eh.keys())\n",
    "ensemble_hashes = list(dh2eh.values())"
   ]
  },
  {
   "cell_type": "code",
   "execution_count": 19,
   "id": "f2a3e894-638e-4373-ab6e-7a044f9d2bc7",
   "metadata": {},
   "outputs": [],
   "source": [
    "dh_2_session_ids = unPickle(base_folder+'data/simulation/stim_gen/dh_2_session_ids.pkl')"
   ]
  },
  {
   "cell_type": "markdown",
   "id": "a2ca7df8-5590-4c19-a21e-6e59c4a8cf62",
   "metadata": {},
   "source": [
    "### generate model responses"
   ]
  },
  {
   "cell_type": "markdown",
   "id": "7ec657bb-d15f-4439-a5ac-4149c58e6e13",
   "metadata": {},
   "source": [
    "#### prep model input for speed 4"
   ]
  },
  {
   "cell_type": "code",
   "execution_count": 20,
   "id": "2af87e72-be79-4f2c-ab7c-67097c83ecaa",
   "metadata": {},
   "outputs": [],
   "source": [
    "speed=4"
   ]
  },
  {
   "cell_type": "code",
   "execution_count": 21,
   "id": "597dc142-337b-4f00-809d-458d9c4abd07",
   "metadata": {},
   "outputs": [],
   "source": [
    "s_4 = np.load(base_folder+'data/simulation/stim_gen/sti1000_120f_s{}_18x16.npy'.format(speed))"
   ]
  },
  {
   "cell_type": "code",
   "execution_count": 22,
   "id": "4f239fb4-c4fb-4e24-a4d7-af9dcd174d7b",
   "metadata": {},
   "outputs": [
    {
     "data": {
      "text/plain": [
       "(1000, 4, 2, 120, 18, 16)"
      ]
     },
     "execution_count": 22,
     "metadata": {},
     "output_type": "execute_result"
    }
   ],
   "source": [
    "s_4.shape"
   ]
  },
  {
   "cell_type": "code",
   "execution_count": 23,
   "id": "9bcc33d0-493b-4e05-8950-1de28fd2f1f1",
   "metadata": {},
   "outputs": [],
   "source": [
    "model_input2 = s_4.reshape((4000,2,120,18,16))"
   ]
  },
  {
   "cell_type": "code",
   "execution_count": 24,
   "id": "cf352f97-5c42-48cf-851f-e025c7e4c3b7",
   "metadata": {},
   "outputs": [],
   "source": [
    "stimulus_normalization = unPickle(base_folder+'data/simulation/stim_gen/stimulus_normalization.pkl')\n",
    "transform_mean = stimulus_normalization['mean']\n",
    "transform_sd = stimulus_normalization['sd']\n",
    "model_input2 =((model_input2  - transform_mean)/transform_sd)"
   ]
  },
  {
   "cell_type": "markdown",
   "id": "3471a20d-d23a-47b8-a245-3bbfd50a9bb2",
   "metadata": {},
   "source": [
    "#### rotate 90 for certain sessions"
   ]
  },
  {
   "cell_type": "code",
   "execution_count": 25,
   "id": "a83fd3b3-8e59-42c9-bba2-ad2efe9d3233",
   "metadata": {},
   "outputs": [],
   "source": [
    "model_input2R90 = np.zeros((1000*4,2,120,16,18))\n",
    "for a in range(4000):\n",
    "    for c in range(2):\n",
    "        for f in range(120):\n",
    "            orig = model_input2[a,c,f]\n",
    "            tmp = np.rot90(orig,k=3)\n",
    "            flip = np.flip(tmp)\n",
    "            model_input2R90[a,c,f]=flip"
   ]
  },
  {
   "cell_type": "code",
   "execution_count": 26,
   "id": "f0b5a4ae-5fda-40a1-8a56-6a473f4c8861",
   "metadata": {},
   "outputs": [],
   "source": [
    "model_input2 = torch.Tensor(model_input2).to('cuda')\n",
    "model_input2R90 = torch.Tensor(model_input2R90).to('cuda')"
   ]
  },
  {
   "cell_type": "markdown",
   "id": "703eb3bf-1c86-4f19-a95d-dc294be31270",
   "metadata": {},
   "source": [
    "### prep the model"
   ]
  },
  {
   "cell_type": "code",
   "execution_count": 27,
   "id": "7a3aba5b-04f2-4301-967d-4cea8f1d290e",
   "metadata": {},
   "outputs": [
    {
     "data": {
      "text/plain": [
       "{'069836032a542cb20fe4c678dde07615': '910123855237157eeb15a488cf954368',\n",
       " '3fa1f6b6c48d3512911ec865c5314069': '166d959f04c2a75f8a96e5a7050b76a2',\n",
       " '4fdcebca20eccfb13a45e6db91594047': '75798bfbbb1d93855e3ce894251caa0f',\n",
       " '57ff42f31240ab511be30f98b4a07ffe': '9d574ab9fcb85e8251639080c8d402b7',\n",
       " 'b0eac5ecc79e497f4d9c02d0990219c4': '7c3dc62c6321e2eb4699c18423a9e21f',\n",
       " '5e620609fc7b491aa5edb4a5d4cd7276': 'db311144177133200d3b805fadd20c70'}"
      ]
     },
     "execution_count": 27,
     "metadata": {},
     "output_type": "execute_result"
    }
   ],
   "source": [
    "dh2eh"
   ]
  },
  {
   "cell_type": "code",
   "execution_count": 32,
   "id": "252f1258-fd1c-4ff2-ad1b-6cf3c142bf2a",
   "metadata": {},
   "outputs": [],
   "source": [
    "df = pd.read_pickle(base_folder+'data/full_data_df.pkl')"
   ]
  },
  {
   "cell_type": "markdown",
   "id": "14acf6bb-09cb-4bde-9ffb-56329ddd4c67",
   "metadata": {},
   "source": [
    "#### generate model responses"
   ]
  },
  {
   "cell_type": "code",
   "execution_count": 25,
   "id": "c25d4b44-74da-4f0a-9916-294f3c3d5d68",
   "metadata": {
    "scrolled": true
   },
   "outputs": [
    {
     "name": "stdout",
     "output_type": "stream",
     "text": [
      "069836032a542cb20fe4c678dde07615\n",
      "Random seed 0 has been set.\n"
     ]
    },
    {
     "name": "stderr",
     "output_type": "stream",
     "text": [
      "/.pyenv/versions/miniconda3-latest/lib/python3.11/site-packages/openretina/hoefling_2024/models.py:813: UserWarning: The use of `x.T` on tensors of dimension other than 2 to reverse their shape is deprecated and it will throw an error in a future release. Consider `x.mT` to transpose batches of matrices or `x.permute(*torch.arange(x.ndim - 1, -1, -1))` to reverse the dimensions of a tensor. (Triggered internally at ../aten/src/ATen/native/TensorShape.cpp:3614.)\n",
      "  return mask.T\n"
     ]
    },
    {
     "name": "stdout",
     "output_type": "stream",
     "text": [
      "Ignored Missing keys:\n",
      "core.features.layer0.conv._log_speed_default\n",
      "core.features.layer1.conv._log_speed_default\n",
      "Random seed 1000 has been set.\n",
      "Ignored Missing keys:\n",
      "core.features.layer0.conv._log_speed_default\n",
      "core.features.layer1.conv._log_speed_default\n",
      "Random seed 2000 has been set.\n",
      "Ignored Missing keys:\n",
      "core.features.layer0.conv._log_speed_default\n",
      "core.features.layer1.conv._log_speed_default\n",
      "Random seed 3000 has been set.\n",
      "Ignored Missing keys:\n",
      "core.features.layer0.conv._log_speed_default\n",
      "core.features.layer1.conv._log_speed_default\n",
      "Random seed 4000 has been set.\n",
      "Ignored Missing keys:\n",
      "core.features.layer0.conv._log_speed_default\n",
      "core.features.layer1.conv._log_speed_default\n",
      "    session_1_ventral1_20210929\n",
      "    session_1_ventral1_20210930\n",
      "    session_1_ventral2_20210929\n",
      "    session_1_ventral2_20210930\n",
      "    session_2_ventral1_20210929\n",
      "    session_2_ventral2_20210929\n",
      "    session_2_ventral2_20210930\n",
      "    session_3_ventral2_20210929\n",
      "    session_3_ventral2_20210930\n",
      "    session_4_ventral2_20210929\n",
      "    session_5_ventral2_20210929\n",
      "    session_1_ventral1_20210929\n",
      "    session_1_ventral1_20210930\n",
      "    session_1_ventral2_20210929\n",
      "    session_1_ventral2_20210930\n",
      "    session_2_ventral1_20210929\n",
      "    session_2_ventral2_20210929\n",
      "    session_2_ventral2_20210930\n",
      "    session_3_ventral2_20210929\n",
      "    session_3_ventral2_20210930\n",
      "    session_4_ventral2_20210929\n",
      "    session_5_ventral2_20210929\n",
      "    session_1_ventral1_20210929\n",
      "    session_1_ventral1_20210930\n",
      "    session_1_ventral2_20210929\n",
      "    session_1_ventral2_20210930\n",
      "    session_2_ventral1_20210929\n",
      "    session_2_ventral2_20210929\n",
      "    session_2_ventral2_20210930\n",
      "    session_3_ventral2_20210929\n",
      "    session_3_ventral2_20210930\n",
      "    session_4_ventral2_20210929\n",
      "    session_5_ventral2_20210929\n",
      "    session_1_ventral1_20210929\n",
      "    session_1_ventral1_20210930\n",
      "    session_1_ventral2_20210929\n",
      "    session_1_ventral2_20210930\n",
      "    session_2_ventral1_20210929\n",
      "    session_2_ventral2_20210929\n",
      "    session_2_ventral2_20210930\n",
      "    session_3_ventral2_20210929\n",
      "    session_3_ventral2_20210930\n",
      "    session_4_ventral2_20210929\n",
      "    session_5_ventral2_20210929\n",
      "3fa1f6b6c48d3512911ec865c5314069\n",
      "Random seed 0 has been set.\n",
      "Ignored Missing keys:\n",
      "core.features.layer0.conv._log_speed_default\n",
      "core.features.layer1.conv._log_speed_default\n",
      "Random seed 1000 has been set.\n",
      "Ignored Missing keys:\n",
      "core.features.layer0.conv._log_speed_default\n",
      "core.features.layer1.conv._log_speed_default\n",
      "Random seed 2000 has been set.\n",
      "Ignored Missing keys:\n",
      "core.features.layer0.conv._log_speed_default\n",
      "core.features.layer1.conv._log_speed_default\n",
      "Random seed 3000 has been set.\n",
      "Ignored Missing keys:\n",
      "core.features.layer0.conv._log_speed_default\n",
      "core.features.layer1.conv._log_speed_default\n",
      "Random seed 4000 has been set.\n",
      "Ignored Missing keys:\n",
      "core.features.layer0.conv._log_speed_default\n",
      "core.features.layer1.conv._log_speed_default\n",
      "    session_1_ventral2_20210910\n",
      "    session_2_ventral2_20210910\n",
      "    session_3_ventral2_20210910\n",
      "    session_4_ventral2_20210910\n",
      "    session_5_ventral2_20210910\n",
      "    session_1_ventral2_20210910\n",
      "    session_2_ventral2_20210910\n",
      "    session_3_ventral2_20210910\n",
      "    session_4_ventral2_20210910\n",
      "    session_5_ventral2_20210910\n",
      "    session_1_ventral2_20210910\n",
      "    session_2_ventral2_20210910\n",
      "    session_3_ventral2_20210910\n",
      "    session_4_ventral2_20210910\n",
      "    session_5_ventral2_20210910\n",
      "    session_1_ventral2_20210910\n",
      "    session_2_ventral2_20210910\n",
      "    session_3_ventral2_20210910\n",
      "    session_4_ventral2_20210910\n",
      "    session_5_ventral2_20210910\n",
      "4fdcebca20eccfb13a45e6db91594047\n",
      "Random seed 0 has been set.\n",
      "Ignored Missing keys:\n",
      "core.features.layer0.conv._log_speed_default\n",
      "core.features.layer1.conv._log_speed_default\n",
      "Random seed 1000 has been set.\n",
      "Ignored Missing keys:\n",
      "core.features.layer0.conv._log_speed_default\n",
      "core.features.layer1.conv._log_speed_default\n",
      "Random seed 2000 has been set.\n",
      "Ignored Missing keys:\n",
      "core.features.layer0.conv._log_speed_default\n",
      "core.features.layer1.conv._log_speed_default\n",
      "Random seed 3000 has been set.\n",
      "Ignored Missing keys:\n",
      "core.features.layer0.conv._log_speed_default\n",
      "core.features.layer1.conv._log_speed_default\n",
      "Random seed 4000 has been set.\n",
      "Ignored Missing keys:\n",
      "core.features.layer0.conv._log_speed_default\n",
      "core.features.layer1.conv._log_speed_default\n",
      "    session_1_ventral2_20211130\n",
      "    session_2_ventral2_20211130\n",
      "    session_3_ventral2_20211130\n",
      "    session_4_ventral2_20211130\n",
      "    session_1_ventral2_20211130\n",
      "    session_2_ventral2_20211130\n",
      "    session_3_ventral2_20211130\n",
      "    session_4_ventral2_20211130\n",
      "    session_1_ventral2_20211130\n",
      "    session_2_ventral2_20211130\n",
      "    session_3_ventral2_20211130\n",
      "    session_4_ventral2_20211130\n",
      "    session_1_ventral2_20211130\n",
      "    session_2_ventral2_20211130\n",
      "    session_3_ventral2_20211130\n",
      "    session_4_ventral2_20211130\n",
      "57ff42f31240ab511be30f98b4a07ffe\n",
      "Random seed 0 has been set.\n",
      "Ignored Missing keys:\n",
      "core.features.layer0.conv._log_speed_default\n",
      "core.features.layer1.conv._log_speed_default\n",
      "Random seed 1000 has been set.\n",
      "Ignored Missing keys:\n",
      "core.features.layer0.conv._log_speed_default\n",
      "core.features.layer1.conv._log_speed_default\n",
      "Random seed 2000 has been set.\n",
      "Ignored Missing keys:\n",
      "core.features.layer0.conv._log_speed_default\n",
      "core.features.layer1.conv._log_speed_default\n",
      "Random seed 3000 has been set.\n",
      "Ignored Missing keys:\n",
      "core.features.layer0.conv._log_speed_default\n",
      "core.features.layer1.conv._log_speed_default\n",
      "Random seed 4000 has been set.\n",
      "Ignored Missing keys:\n",
      "core.features.layer0.conv._log_speed_default\n",
      "core.features.layer1.conv._log_speed_default\n",
      "    session_1_ventral1_20201021\n",
      "    session_1_ventral1_20201030\n",
      "    session_1_ventral2_20201021\n",
      "    session_1_ventral2_20201022\n",
      "    session_1_ventral2_20201030\n",
      "    session_1_ventral2_20201117\n",
      "    session_2_ventral1_20201021\n",
      "    session_2_ventral1_20201030\n",
      "    session_2_ventral2_20201016\n",
      "    session_2_ventral2_20201021\n",
      "    session_2_ventral2_20201022\n",
      "    session_2_ventral2_20201030\n",
      "    session_2_ventral2_20201117\n",
      "    session_3_ventral1_20201021\n",
      "    session_3_ventral1_20201030\n",
      "    session_3_ventral2_20201022\n",
      "    session_3_ventral2_20201117\n",
      "    session_4_ventral1_20201021\n",
      "    session_4_ventral1_20201030\n",
      "    session_4_ventral2_20201022\n",
      "    session_1_ventral1_20201021\n",
      "    session_1_ventral1_20201030\n",
      "    session_1_ventral2_20201021\n",
      "    session_1_ventral2_20201022\n",
      "    session_1_ventral2_20201030\n",
      "    session_1_ventral2_20201117\n",
      "    session_2_ventral1_20201021\n",
      "    session_2_ventral1_20201030\n",
      "    session_2_ventral2_20201016\n",
      "    session_2_ventral2_20201021\n",
      "    session_2_ventral2_20201022\n",
      "    session_2_ventral2_20201030\n",
      "    session_2_ventral2_20201117\n",
      "    session_3_ventral1_20201021\n",
      "    session_3_ventral1_20201030\n",
      "    session_3_ventral2_20201022\n",
      "    session_3_ventral2_20201117\n",
      "    session_4_ventral1_20201021\n",
      "    session_4_ventral1_20201030\n",
      "    session_4_ventral2_20201022\n",
      "    session_1_ventral1_20201021\n",
      "    session_1_ventral1_20201030\n",
      "    session_1_ventral2_20201021\n",
      "    session_1_ventral2_20201022\n",
      "    session_1_ventral2_20201030\n",
      "    session_1_ventral2_20201117\n",
      "    session_2_ventral1_20201021\n",
      "    session_2_ventral1_20201030\n",
      "    session_2_ventral2_20201016\n",
      "    session_2_ventral2_20201021\n",
      "    session_2_ventral2_20201022\n",
      "    session_2_ventral2_20201030\n",
      "    session_2_ventral2_20201117\n",
      "    session_3_ventral1_20201021\n",
      "    session_3_ventral1_20201030\n",
      "    session_3_ventral2_20201022\n",
      "    session_3_ventral2_20201117\n",
      "    session_4_ventral1_20201021\n",
      "    session_4_ventral1_20201030\n",
      "    session_4_ventral2_20201022\n",
      "    session_1_ventral1_20201021\n",
      "    session_1_ventral1_20201030\n",
      "    session_1_ventral2_20201021\n",
      "    session_1_ventral2_20201022\n",
      "    session_1_ventral2_20201030\n",
      "    session_1_ventral2_20201117\n",
      "    session_2_ventral1_20201021\n",
      "    session_2_ventral1_20201030\n",
      "    session_2_ventral2_20201016\n",
      "    session_2_ventral2_20201021\n",
      "    session_2_ventral2_20201022\n",
      "    session_2_ventral2_20201030\n",
      "    session_2_ventral2_20201117\n",
      "    session_3_ventral1_20201021\n",
      "    session_3_ventral1_20201030\n",
      "    session_3_ventral2_20201022\n",
      "    session_3_ventral2_20201117\n",
      "    session_4_ventral1_20201021\n",
      "    session_4_ventral1_20201030\n",
      "    session_4_ventral2_20201022\n",
      "b0eac5ecc79e497f4d9c02d0990219c4\n",
      "Random seed 0 has been set.\n",
      "Ignored Missing keys:\n",
      "core.features.layer0.conv._log_speed_default\n",
      "core.features.layer1.conv._log_speed_default\n",
      "Random seed 1000 has been set.\n",
      "Ignored Missing keys:\n",
      "core.features.layer0.conv._log_speed_default\n",
      "core.features.layer1.conv._log_speed_default\n",
      "Random seed 2000 has been set.\n",
      "Ignored Missing keys:\n",
      "core.features.layer0.conv._log_speed_default\n",
      "core.features.layer1.conv._log_speed_default\n",
      "Random seed 3000 has been set.\n",
      "Ignored Missing keys:\n",
      "core.features.layer0.conv._log_speed_default\n",
      "core.features.layer1.conv._log_speed_default\n",
      "Random seed 4000 has been set.\n",
      "Ignored Missing keys:\n",
      "core.features.layer0.conv._log_speed_default\n",
      "core.features.layer1.conv._log_speed_default\n",
      "    session_1_ventral2_20210921\n",
      "    session_2_ventral2_20210921\n",
      "    session_3_ventral2_20210921\n",
      "    session_4_ventral2_20210921\n",
      "    session_5_ventral2_20210921\n",
      "    session_6_ventral2_20210921\n",
      "    session_1_ventral2_20210921\n",
      "    session_2_ventral2_20210921\n",
      "    session_3_ventral2_20210921\n",
      "    session_4_ventral2_20210921\n",
      "    session_5_ventral2_20210921\n",
      "    session_6_ventral2_20210921\n",
      "    session_1_ventral2_20210921\n",
      "    session_2_ventral2_20210921\n",
      "    session_3_ventral2_20210921\n",
      "    session_4_ventral2_20210921\n",
      "    session_5_ventral2_20210921\n",
      "    session_6_ventral2_20210921\n",
      "    session_1_ventral2_20210921\n",
      "    session_2_ventral2_20210921\n",
      "    session_3_ventral2_20210921\n",
      "    session_4_ventral2_20210921\n",
      "    session_5_ventral2_20210921\n",
      "    session_6_ventral2_20210921\n",
      "5e620609fc7b491aa5edb4a5d4cd7276\n",
      "Random seed 0 has been set.\n",
      "Ignored Missing keys:\n",
      "core.features.layer0.conv._log_speed_default\n",
      "core.features.layer1.conv._log_speed_default\n",
      "Random seed 1000 has been set.\n",
      "Ignored Missing keys:\n",
      "core.features.layer0.conv._log_speed_default\n",
      "core.features.layer1.conv._log_speed_default\n",
      "Random seed 2000 has been set.\n",
      "Ignored Missing keys:\n",
      "core.features.layer0.conv._log_speed_default\n",
      "core.features.layer1.conv._log_speed_default\n",
      "Random seed 3000 has been set.\n",
      "Ignored Missing keys:\n",
      "core.features.layer0.conv._log_speed_default\n",
      "core.features.layer1.conv._log_speed_default\n",
      "Random seed 4000 has been set.\n",
      "Ignored Missing keys:\n",
      "core.features.layer0.conv._log_speed_default\n",
      "core.features.layer1.conv._log_speed_default\n",
      "    session_1_ventral1_20200226\n",
      "    session_1_ventral1_20200303\n",
      "    session_1_ventral1_20200528\n",
      "    session_1_ventral1_20200529\n",
      "    session_1_ventral1_20200707\n",
      "    session_1_ventral2_20200302\n",
      "    session_1_ventral2_20200707\n",
      "    session_2_ventral1_20200226\n",
      "    session_2_ventral1_20200303\n",
      "    session_2_ventral1_20200528\n",
      "    session_2_ventral1_20200529\n",
      "    session_2_ventral1_20200701\n",
      "    session_2_ventral2_20200302\n",
      "    session_2_ventral2_20200303\n",
      "    session_2_ventral2_20200626\n",
      "    session_3_ventral1_20200226\n",
      "    session_3_ventral1_20200303\n",
      "    session_3_ventral1_20200529\n",
      "    session_3_ventral2_20200302\n",
      "    session_3_ventral2_20200701\n",
      "    session_3_ventral2_20200707\n",
      "    session_4_ventral1_20200226\n",
      "    session_4_ventral2_20200303\n",
      "    session_4_ventral2_20200707\n",
      "    session_5_ventral1_20200226\n",
      "    session_5_ventral2_20200303\n",
      "    session_1_ventral1_20200226\n",
      "    session_1_ventral1_20200303\n",
      "    session_1_ventral1_20200528\n",
      "    session_1_ventral1_20200529\n",
      "    session_1_ventral1_20200707\n",
      "    session_1_ventral2_20200302\n",
      "    session_1_ventral2_20200707\n",
      "    session_2_ventral1_20200226\n",
      "    session_2_ventral1_20200303\n",
      "    session_2_ventral1_20200528\n",
      "    session_2_ventral1_20200529\n",
      "    session_2_ventral1_20200701\n",
      "    session_2_ventral2_20200302\n",
      "    session_2_ventral2_20200303\n",
      "    session_2_ventral2_20200626\n",
      "    session_3_ventral1_20200226\n",
      "    session_3_ventral1_20200303\n",
      "    session_3_ventral1_20200529\n",
      "    session_3_ventral2_20200302\n",
      "    session_3_ventral2_20200701\n",
      "    session_3_ventral2_20200707\n",
      "    session_4_ventral1_20200226\n",
      "    session_4_ventral2_20200303\n",
      "    session_4_ventral2_20200707\n",
      "    session_5_ventral1_20200226\n",
      "    session_5_ventral2_20200303\n",
      "    session_1_ventral1_20200226\n",
      "    session_1_ventral1_20200303\n",
      "    session_1_ventral1_20200528\n",
      "    session_1_ventral1_20200529\n",
      "    session_1_ventral1_20200707\n",
      "    session_1_ventral2_20200302\n",
      "    session_1_ventral2_20200707\n",
      "    session_2_ventral1_20200226\n",
      "    session_2_ventral1_20200303\n",
      "    session_2_ventral1_20200528\n",
      "    session_2_ventral1_20200529\n",
      "    session_2_ventral1_20200701\n",
      "    session_2_ventral2_20200302\n",
      "    session_2_ventral2_20200303\n",
      "    session_2_ventral2_20200626\n",
      "    session_3_ventral1_20200226\n",
      "    session_3_ventral1_20200303\n",
      "    session_3_ventral1_20200529\n",
      "    session_3_ventral2_20200302\n",
      "    session_3_ventral2_20200701\n",
      "    session_3_ventral2_20200707\n",
      "    session_4_ventral1_20200226\n",
      "    session_4_ventral2_20200303\n",
      "    session_4_ventral2_20200707\n",
      "    session_5_ventral1_20200226\n",
      "    session_5_ventral2_20200303\n",
      "    session_1_ventral1_20200226\n",
      "    session_1_ventral1_20200303\n",
      "    session_1_ventral1_20200528\n",
      "    session_1_ventral1_20200529\n",
      "    session_1_ventral1_20200707\n",
      "    session_1_ventral2_20200302\n",
      "    session_1_ventral2_20200707\n",
      "    session_2_ventral1_20200226\n",
      "    session_2_ventral1_20200303\n",
      "    session_2_ventral1_20200528\n",
      "    session_2_ventral1_20200529\n",
      "    session_2_ventral1_20200701\n",
      "    session_2_ventral2_20200302\n",
      "    session_2_ventral2_20200303\n",
      "    session_2_ventral2_20200626\n",
      "    session_3_ventral1_20200226\n",
      "    session_3_ventral1_20200303\n",
      "    session_3_ventral1_20200529\n",
      "    session_3_ventral2_20200302\n",
      "    session_3_ventral2_20200701\n",
      "    session_3_ventral2_20200707\n",
      "    session_4_ventral1_20200226\n",
      "    session_4_ventral2_20200303\n",
      "    session_4_ventral2_20200707\n",
      "    session_5_ventral1_20200226\n",
      "    session_5_ventral2_20200303\n"
     ]
    }
   ],
   "source": [
    "prediction_dicts ={dh:{0:{},1:{},2:{},3:{}} for dh in dh2eh.keys()}\n",
    "for dataset_hash in dataset_hashes:\n",
    "    print(dataset_hash)\n",
    "    ensemble_hash = dh2eh[dataset_hash]\n",
    "    model_path = os.path.join(base_folder, \"models\", \n",
    "                              model_type, ensemble_hash)\n",
    "    _, ensemble_model = load_ensemble_retina_model_from_directory(model_path)\n",
    "    \n",
    "    Center\n",
    "    model_transform = Center(target_mean=[0., 0.])\n",
    "    model_transform(ensemble_model)\n",
    "    \n",
    "    for tt_idx in range(4):\n",
    "        prediction_dict = {}\n",
    "        for session_id in dh_2_session_ids[dataset_hash]:\n",
    "            # get model predictions for test stimulus\n",
    "            print('   ',session_id)\n",
    "            if dataset_hash =='5e620609fc7b491aa5edb4a5d4cd7276':\n",
    "                predictions = get_model_responses(\n",
    "                    ensemble_model, \n",
    "                    model_input2R90[tt_idx*1000:tt_idx*1000+1000],\n",
    "                 \n",
    "                '_'.join(session_id.split('_')[1:])\n",
    "               ).squeeze()\n",
    "            else:\n",
    "                predictions = get_model_responses(\n",
    "                    ensemble_model,\n",
    "                    model_input2[tt_idx*1000:tt_idx*1000+1000],\n",
    "                '_'.join(session_id.split('_')[1:])\n",
    "               ).squeeze()\n",
    "    \n",
    "            current_neuron_ids = df[(df['dataset_hash']==dataset_hash)\n",
    "            & (df['session_id']==session_id)]['neuron_id'].values\n",
    "            \n",
    "            model_readout_idxs = df[(df['dataset_hash']==dataset_hash)\n",
    "            & (df['session_id']==session_id)]['model_readout_idx'].values\n",
    "            \n",
    "            [prediction_dict.update({_neuron_id:predictions[:,:, _model_readout_idx]})\n",
    "             for _neuron_id, _model_readout_idx in zip(current_neuron_ids, model_readout_idxs)]\n",
    "        prediction_dicts[dataset_hash][tt_idx] = prediction_dict\n",
    "    del ensemble_model\n",
    "    if torch.cuda.is_available():\n",
    "        torch.cuda.empty_cache()\n",
    "\n",
    "    # Run garbage collection\n",
    "    gc.collect()"
   ]
  },
  {
   "cell_type": "markdown",
   "id": "1ec12bf6-61f7-412c-b63b-02fcff3937fe",
   "metadata": {},
   "source": [
    "#### extract model responses into a dictionary"
   ]
  },
  {
   "cell_type": "code",
   "execution_count": 26,
   "id": "a2f60581-088e-45f3-a639-abf2e27ea594",
   "metadata": {},
   "outputs": [],
   "source": [
    "full_movie_resp_dict ={nid:np.zeros((4,1000,90)) for nid in df.index}\n",
    "for dh in dh2eh.keys():\n",
    "    for tt_idx in range(4):\n",
    "        for nid in prediction_dicts[dh][tt_idx].keys():\n",
    "            full_movie_resp_dict[nid][tt_idx] = prediction_dicts[dh][tt_idx][nid]"
   ]
  },
  {
   "cell_type": "code",
   "execution_count": 29,
   "id": "b1684ea9-1d5f-47c1-ad0a-07f4920627ce",
   "metadata": {},
   "outputs": [],
   "source": [
    "# makePickle('./s_{}_full_movie_resp_centered_sameNormMeanSd.pkl'.format(speed),full_movie_resp_dict)"
   ]
  },
  {
   "cell_type": "markdown",
   "id": "9b897f89-c85f-4be9-a01f-6f176eef02f6",
   "metadata": {},
   "source": [
    "#### bin the responses"
   ]
  },
  {
   "cell_type": "code",
   "execution_count": 30,
   "id": "0a98c6b9-8562-45c2-a803-f93e9d8f293c",
   "metadata": {},
   "outputs": [],
   "source": [
    "for each in full_movie_resp_dict:\n",
    "    full_movie_resp_dict[each] = full_movie_resp_dict[each].flatten()"
   ]
  },
  {
   "cell_type": "code",
   "execution_count": 31,
   "id": "7782ee5f-a830-49cd-9e37-65fa7a0022ef",
   "metadata": {},
   "outputs": [],
   "source": [
    "start_indices = np.arange(0, 4*1000*90, 90)"
   ]
  },
  {
   "cell_type": "code",
   "execution_count": 32,
   "id": "d48ee3d8-52cd-41c1-9f69-3746a951eeac",
   "metadata": {},
   "outputs": [],
   "source": [
    "## chromatic\n",
    "binned_movie_resp_dict = {nid: np.zeros(len(start_indices)) for nid in full_movie_resp_dict.keys()}\n",
    "for nid, resp in full_movie_resp_dict.items():\n",
    "    ## average over the first 30 responses (consistent with the previous analysis)\n",
    "    temp = np.asarray([resp[i+30:i+60].mean() - resp[i+30] for i in start_indices])\n",
    "    binned_movie_resp_dict[nid] = (temp-temp.mean())/temp.std()"
   ]
  },
  {
   "cell_type": "code",
   "execution_count": null,
   "id": "3a958be9-4ca3-4dbe-aef4-aa0f65141a6e",
   "metadata": {},
   "outputs": [],
   "source": [
    "# makePickle('../../horizonAnalys/data/binned_mv_resp_dict/s_20_wo_dj_sameNorm.pkl',binned_movie_resp_dict)"
   ]
  },
  {
   "cell_type": "markdown",
   "id": "97011b5c-10c2-4dda-9fcb-5b25a8849fd3",
   "metadata": {},
   "source": [
    "## ROC"
   ]
  },
  {
   "cell_type": "code",
   "execution_count": 40,
   "id": "dc801bef-9139-481d-8a69-4b977239f349",
   "metadata": {},
   "outputs": [],
   "source": [
    "## the transition types for each 120f-snippets\n",
    "vertical_tts = np.load(base_folder+'data/simulation/stim_gen/sti1000_vertical_transitions.npy')"
   ]
  },
  {
   "cell_type": "code",
   "execution_count": 42,
   "id": "33c13460-258a-4046-beb5-ad305cdcc9a8",
   "metadata": {},
   "outputs": [
    {
     "data": {
      "text/plain": [
       "(1000, 4)"
      ]
     },
     "execution_count": 42,
     "metadata": {},
     "output_type": "execute_result"
    }
   ],
   "source": [
    "vertical_tts.shape # for all 1000 scenes, the order of transition is the same"
   ]
  },
  {
   "cell_type": "markdown",
   "id": "612c4435-9b7d-4fcd-9ec8-8755cf7975af",
   "metadata": {},
   "source": [
    "#### help function\n",
    "##### find the package that includes these two functions"
   ]
  },
  {
   "cell_type": "code",
   "execution_count": 54,
   "id": "e805716f-65f2-4419-ab8e-9c30f29f0d0b",
   "metadata": {},
   "outputs": [],
   "source": [
    "from scipy import interpolate\n",
    "from matplotlib.patches import Rectangle\n",
    "from matplotlib.ticker import FixedLocator"
   ]
  },
  {
   "cell_type": "code",
   "execution_count": 49,
   "id": "116268e6-0188-4b49-a775-92c1500d73a4",
   "metadata": {},
   "outputs": [],
   "source": [
    "def get_ind_roc_curve(df, vertical_tts, binned_resp_dict, target_transition, \n",
    "                      t, offtarget_transition=\"all\",\n",
    "                  num_bins=40,  above_threshold=True):\n",
    "    tpr_by_nid = {}\n",
    "    fpr_by_nid = {}\n",
    "    auc_by_nid = {}\n",
    "    functions_by_nid = {}\n",
    "    inverse_functions_by_nid = {}\n",
    "    thresholds_by_nid = {}\n",
    "    curr_nids = df[df[\"group_assignment\"]==t].index.to_numpy()\n",
    "    for j, curr_nid in enumerate(zip(curr_nids)):\n",
    "        curr_nid = curr_nid[0]\n",
    "        fpr, tpr, f, f_inverse, auc, ds = get_roc_curve(binned_resp_dict[curr_nid],vertical_tts.flatten(),\n",
    "                                                        target_transition,offtarget_transition,above_threshold, num_bins)\n",
    "\n",
    "        tpr_by_nid[curr_nid] = tpr\n",
    "        fpr_by_nid[curr_nid] = fpr\n",
    "        functions_by_nid[curr_nid] = f\n",
    "        inverse_functions_by_nid[curr_nid] = f_inverse\n",
    "        auc_by_nid[curr_nid] = auc\n",
    "        thresholds_by_nid[curr_nid] = ds\n",
    "    return tpr_by_nid, fpr_by_nid, auc_by_nid, functions_by_nid, inverse_functions_by_nid, thresholds_by_nid\n",
    "def get_roc_curve(responses, transitions, target_transition, offtarget_transition, above_threshold, num_bins=40):\n",
    "    \"\"\"\n",
    "    Calculate ROC curve based on binned responses \n",
    "    \"\"\"\n",
    "    ## get the indexes for target and non-target transitions\n",
    "    positives_bool = transitions == target_transition\n",
    "    positives_idxs = np.nonzero(positives_bool)[0]\n",
    "    if offtarget_transition==\"all\":\n",
    "        negatives_bool = np.logical_not(positives_bool)\n",
    "        #negatives_idxs = np.nonzero(negatives_bool)[0]\n",
    "    else:\n",
    "        negatives_bool = transitions == offtarget_transition\n",
    "        #negatives_idxs = np.nonzeros(negatives_bool)[0]\n",
    "    ## sample equally spaced points on the response curve\n",
    "    ds = np.linspace(responses.min(),\n",
    "                       responses.max(),\n",
    "                       num =num_bins)\n",
    "    ## get a boolean array the size of the number of transitions/responses with True where the response is larger than threshold\n",
    "    if above_threshold:\n",
    "        predictions = np.asarray([responses>d for d in ds])\n",
    "    else:\n",
    "        predictions = np.asarray([responses<=d for d in ds])\n",
    "    ## get fpr as the proportion of True predictions where label is negative\n",
    "    fpr = np.dot(predictions.astype(int), negatives_bool.astype(int))/negatives_bool.sum()\n",
    "    tpr = np.dot(predictions.astype(int), positives_bool.astype(int))/positives_bool.sum()\n",
    "    ## get a function estimate of the ROC curve\n",
    "    f = interpolate.interp1d(fpr[::-1], tpr[::-1])\n",
    "    f_inverse = interpolate.interp1d(tpr[::-1], fpr[::-1])\n",
    "    \n",
    "    ## interpolate TPR values for the entire FPR range.\n",
    "    auc = f(np.arange(fpr.min(), fpr.max(), .001)).mean()\n",
    "    return fpr, tpr, f, f_inverse, auc, ds"
   ]
  },
  {
   "cell_type": "markdown",
   "id": "d9beacfb-437c-4030-8e73-d2e842a2a8cd",
   "metadata": {},
   "source": [
    "### calculate AUC "
   ]
  },
  {
   "cell_type": "markdown",
   "id": "8ecb2d16-ff64-423a-b445-8f0601ef8091",
   "metadata": {},
   "source": [
    "### to-do, debug"
   ]
  },
  {
   "cell_type": "code",
   "execution_count": 35,
   "id": "6d9f5fe4-a28c-4713-81e3-72ba3a20fdc2",
   "metadata": {},
   "outputs": [
    {
     "data": {
      "text/plain": [
       "4"
      ]
     },
     "execution_count": 35,
     "metadata": {},
     "output_type": "execute_result"
    }
   ],
   "source": [
    "speed"
   ]
  },
  {
   "cell_type": "code",
   "execution_count": 36,
   "id": "fe53b527-47cf-490c-81a8-ab4e1c08450a",
   "metadata": {},
   "outputs": [],
   "source": [
    "binned_movie_resp_dict = unPickle(base_folder+'data/simulation/stim_gen/binned_s{}_wo_dj.pkl'.format(speed))"
   ]
  },
  {
   "cell_type": "code",
   "execution_count": 64,
   "id": "b76d20c9-3778-4f57-85b7-d518bfc68813",
   "metadata": {},
   "outputs": [],
   "source": [
    "C_tpr_by_type = {}\n",
    "C_fpr_by_type = {}\n",
    "C_auc_by_type = {}\n",
    "C_tpr_by_nid= {}\n",
    "C_fpr_by_nid= {}\n",
    "C_auc_by_nid= {}\n",
    "C_f_by_nid= {}\n",
    "C_f_inv_by_nid = {}\n",
    "C_thresholds_by_nid = {}\n",
    "for t in range(1, 33):\n",
    "    C_tpr_by_nid_temp, C_fpr_by_nid_temp, C_auc_by_nid_temp, C_f_by_nid_temp, C_f_inv_by_nid_temp, C_thresholds_by_nid_temp = get_ind_roc_curve(\n",
    "        df, vertical_tts, binned_movie_resp_dict, t=t, target_transition = 4,\n",
    "            above_threshold=True,\n",
    "        offtarget_transition =\"all\"\n",
    "        # offtarget_transition=2\n",
    "    )\n",
    "    C_tpr_by_nid.update(C_tpr_by_nid_temp)\n",
    "    C_fpr_by_nid.update(C_fpr_by_nid_temp)\n",
    "    C_auc_by_nid.update(C_auc_by_nid_temp)\n",
    "    C_f_by_nid.update(C_f_by_nid_temp)\n",
    "    C_f_inv_by_nid.update(C_f_inv_by_nid_temp)\n",
    "    C_thresholds_by_nid.update(C_thresholds_by_nid_temp)\n",
    "    C_tpr_by_type[t] = np.asarray([C_tpr_by_nid_temp[nid] for nid in C_tpr_by_nid_temp.keys()])\n",
    "    C_fpr_by_type[t] = np.asarray([C_fpr_by_nid_temp[nid] for nid in C_fpr_by_nid_temp.keys()])\n",
    "    C_auc_by_type[t] = np.asarray([C_auc_by_nid_temp[nid] for nid in C_auc_by_nid_temp.keys()])"
   ]
  },
  {
   "cell_type": "markdown",
   "id": "40c2c146-8e64-4eec-89b1-e164d5818965",
   "metadata": {},
   "source": [
    "### plotting fig7i"
   ]
  },
  {
   "cell_type": "code",
   "execution_count": 60,
   "id": "8b1b8bb0-9ee8-42df-b29a-8930e7a9c676",
   "metadata": {},
   "outputs": [],
   "source": [
    "rc_dict_boxplot = {'figure.dpi': 300,\n",
    " 'figure.figsize': [5, 2],\n",
    " 'figure.frameon': False,\n",
    " 'font.size': 8,\n",
    " 'lines.markersize': 0.5,\n",
    " 'lines.linewidth': .5,\n",
    " 'lines.markeredgewidth': 0.5,\n",
    " 'legend.columnspacing': 0.5,\n",
    " 'legend.frameon': False,\n",
    " 'legend.markerscale': 0.4,\n",
    " 'legend.labelspacing': 0.1,\n",
    " 'legend.handletextpad': 0,\n",
    " 'legend.loc': 'lower right',\n",
    " 'axes.labelpad': 1.0,\n",
    " 'xtick.major.pad': 1,\n",
    " 'ytick.major.pad': 1}"
   ]
  },
  {
   "cell_type": "code",
   "execution_count": 61,
   "id": "74ac32a1-b684-4ffc-baa1-6164b54e46f7",
   "metadata": {},
   "outputs": [],
   "source": [
    "asterik_types = {\n",
    "    4:[15, 27, 30,28],\n",
    "    12:[15,25,27,30,28],\n",
    "    20:[15,19,25,27,29,30,28],\n",
    "    28:[15,19,21,23,25,27,29,30,28]\n",
    "}"
   ]
  },
  {
   "cell_type": "code",
   "execution_count": 66,
   "id": "ed0595d9-858a-4003-9b8d-e89eab669f08",
   "metadata": {},
   "outputs": [
    {
     "name": "stderr",
     "output_type": "stream",
     "text": [
      "/tmp/ipykernel_5529/332204530.py:9: UserWarning: set_ticklabels() should only be used with a fixed number of ticks, i.e. after set_ticks() or using a FixedLocator.\n",
      "  plt.gca().set_xticklabels(range(1, 33), rotation=90, fontsize=7)\n"
     ]
    },
    {
     "name": "stdout",
     "output_type": "stream",
     "text": [
      "1\n",
      "2\n",
      "3\n",
      "4\n",
      "5\n",
      "6\n",
      "7\n",
      "8\n",
      "9\n",
      "10\n",
      "11\n",
      "12\n",
      "13\n",
      "14\n",
      "16\n",
      "17\n",
      "18\n",
      "19\n",
      "20\n",
      "21\n",
      "22\n",
      "23\n",
      "24\n",
      "25\n",
      "26\n",
      "29\n",
      "31\n",
      "32\n"
     ]
    },
    {
     "data": {
      "image/png": "[encoded data removed]",
      "text/plain": [
       "<Figure size 1500x600 with 1 Axes>"
      ]
     },
     "metadata": {
      "image/png": {
       "height": 577,
       "width": 1352
      }
     },
     "output_type": "display_data"
    }
   ],
   "source": [
    "with mpl.rc_context(rc_dict_boxplot):\n",
    "    sns.boxplot(data=[C_auc_by_type[t] for t in range(1, 33)], orient=\"v\",\n",
    "               palette=[rgc_colors[t-1] for t in range(1, 33)], fliersize=1, \n",
    "                width=.5,linewidth=0.5,flierprops={\"marker\": \"D\"},\n",
    "                showmeans=False,meanprops={\"marker\": \"o\",\n",
    "                       \"markeredgecolor\": \"red\",\n",
    "                       \"markersize\": \"2\"});\n",
    "    plt.gca().yaxis.set_major_locator(FixedLocator([0.25, 0.5, 0.75]))\n",
    "    plt.gca().set_xticklabels(range(1, 33), rotation=90, fontsize=7)\n",
    "    #plt.gca().set_xticklabels([\"N = {:d}\".format(len(auc_by_type[t])) for t in range(1, 33)], rotation=90)\n",
    "    for t in range(1, 33):\n",
    "        plt.annotate(\"N={}\".format(len(C_auc_by_type[t])), xy=[t-1.4, 0.05], rotation=\"vertical\", fontsize=6)\n",
    "        if t not in asterik_types[speed]:\n",
    "            print(t)\n",
    "            plt.annotate(\"*\",xy=[t-1.17,0.88],rotation='vertical',fontsize=6)\n",
    "    sns.despine()\n",
    "    plt.gca().axhline(0.5, color=\"k\")\n",
    "    # plt.gca().axhline(0.75, color=\"red\",linestyle='dotted')\n",
    "    # plt.gca().fill_between((26.5,27.5),1, color=\"red\",alpha=0.2)\n",
    "    # plt.xlabel(\"RGC group\")\n",
    "    plt.ylabel(\"AUC\")\n",
    "    plt.ylim(0, 0.9)"
   ]
  },
  {
   "cell_type": "code",
   "execution_count": null,
   "id": "3c9acd36-a826-4967-b6fe-50675998552e",
   "metadata": {},
   "outputs": [],
   "source": []
  }
 ],
 "metadata": {
  "kernelspec": {
   "display_name": "Python 3 (ipykernel)",
   "language": "python",
   "name": "python3"
  },
  "language_info": {
   "codemirror_mode": {
    "name": "ipython",
    "version": 3
   },
   "file_extension": ".py",
   "mimetype": "text/x-python",
   "name": "python",
   "nbconvert_exporter": "python",
   "pygments_lexer": "ipython3",
   "version": "3.11.5"
  }
 },
 "nbformat": 4,
 "nbformat_minor": 5
}
